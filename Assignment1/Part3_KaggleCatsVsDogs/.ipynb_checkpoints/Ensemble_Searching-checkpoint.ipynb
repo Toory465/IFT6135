{
 "cells": [
  {
   "cell_type": "code",
   "execution_count": 1,
   "metadata": {},
   "outputs": [],
   "source": [
    "import numpy as np\n",
    "import pandas as pd\n",
    "from Utilities.evaluation_utils import *\n",
    "from itertools import combinations\n",
    "from DataPreparation.dataset_preparation import get_catsvsdogs_dataset\n",
    "import os\n",
    "from Utilities.evaluation_utils import *\n",
    "\n",
    "%matplotlib inline"
   ]
  },
  {
   "cell_type": "code",
   "execution_count": 2,
   "metadata": {},
   "outputs": [],
   "source": [
    "data_dir = 'Dataset/'\n",
    "validation_split = 0.2\n",
    "split_seed = 6135"
   ]
  },
  {
   "cell_type": "code",
   "execution_count": 3,
   "metadata": {},
   "outputs": [
    {
     "name": "stdout",
     "output_type": "stream",
     "text": [
      "Train data size:  (15999, 64, 64, 3)\n",
      "Train labels size:  (15999,)\n",
      "Val data size:  (3999, 64, 64, 3)\n",
      "Val labels size:  (3999,)\n",
      "Test data size:  (4999, 64, 64, 3)\n"
     ]
    }
   ],
   "source": [
    "X_train, y_train, X_val, y_val, X_test, X_train_moments = get_catsvsdogs_dataset(data_dir,\n",
    "                                        validation_split, split_seed, normalize_train=True)\n",
    "mean_img, std_img = X_train_moments\n",
    "print('Train data size: ', X_train.shape)\n",
    "print('Train labels size: ', y_train.shape)\n",
    "print('Val data size: ', X_val.shape)\n",
    "print('Val labels size: ', y_val.shape)\n",
    "print('Test data size: ', X_test.shape)"
   ]
  },
  {
   "cell_type": "code",
   "execution_count": 20,
   "metadata": {},
   "outputs": [],
   "source": [
    "PATH = 'CSV/'\n",
    "file_names = os.listdir(f'{PATH}')\n",
    "file_names = [file_name for file_name in file_names if 'val' in file_name]\n",
    "model_probabilities = {}\n",
    "for file_name in file_names:\n",
    "    df = pd.read_csv(f'{PATH}{file_name}', usecols=[1,2])\n",
    "#     df = df.apply(pd.to_numeric)\n",
    "    model_probabilities[file_name] = df.values"
   ]
  },
  {
   "cell_type": "code",
   "execution_count": 21,
   "metadata": {},
   "outputs": [
    {
     "name": "stdout",
     "output_type": "stream",
     "text": [
      "[[9.98989143e-01 1.01085663e-03]\n",
      " [9.98231291e-01 1.76870903e-03]\n",
      " [8.83388362e-04 9.99116612e-01]\n",
      " [8.71072195e-04 9.99128928e-01]\n",
      " [4.58009915e-04 9.99541990e-01]]\n"
     ]
    }
   ],
   "source": [
    "print(model_probabilities[file_names[0]][:5])"
   ]
  },
  {
   "cell_type": "code",
   "execution_count": 23,
   "metadata": {},
   "outputs": [
    {
     "name": "stdout",
     "output_type": "stream",
     "text": [
      "Ensemble 2 best result:\n",
      "0.9562390597649413\n",
      "('B_VGG19_probs_val_55000.csv', 'E_Wide28_10_probs_val_45000.csv')\n"
     ]
    }
   ],
   "source": [
    "combinations_2 = list(combinations(file_names,2))\n",
    "combinations_3 = list(combinations(file_names,3))\n",
    "combinations_5 = list(combinations(file_names,5))\n",
    "combinations_7 = list(combinations(file_names,7))\n",
    "\n",
    "max_acc = 0\n",
    "for combination in combinations_2:\n",
    "    avg_result = np.zeros((len(y_val), 2))\n",
    "    for file_name in combination:\n",
    "        avg_result += model_probabilities[file_name]\n",
    "    ensemble_acc = accuracy(avg_result, y_val)\n",
    "    if ensemble_acc > max_acc:\n",
    "        best_combination = combination\n",
    "        max_acc = ensemble_acc\n",
    "\n",
    "print('Ensemble 2 best result:')\n",
    "print(max_acc)\n",
    "print(best_combination)"
   ]
  },
  {
   "cell_type": "code",
   "execution_count": 32,
   "metadata": {},
   "outputs": [],
   "source": [
    "model_preds = model_probabilities.copy()\n",
    "for k, v in model_preds.items():\n",
    "    preds = np.zeros_like(v)\n",
    "    preds[np.arange(len(v)), v.argmax(1)] = 1\n",
    "    model_preds[k] = preds"
   ]
  },
  {
   "cell_type": "code",
   "execution_count": 36,
   "metadata": {},
   "outputs": [
    {
     "name": "stdout",
     "output_type": "stream",
     "text": [
      "Ensemble 2 best result:\n",
      "0.9534883720930233\n",
      "('A_VGG19_probs_val_65000.csv', 'E_Wide28_10_probs_val_40000.csv')\n",
      "Ensemble 3 best result:\n",
      "0.9574893723430857\n",
      "('B_VGG19_probs_val_55000.csv', 'E_Wide28_10_probs_val_40000.csv', 'E_Wide28_10_probs_val_50000.csv')\n",
      "Ensemble 5 best result:\n",
      "0.9597399349837459\n",
      "('A_VGG19_probs_val_70000.csv', 'C_VGG19_probs_val_60000.csv', 'D_Wide28_10_probs_val_25000.csv', 'D_Wide28_10_probs_val_35000.csv', 'E_Wide28_10_probs_val_40000.csv')\n",
      "Ensemble 7 best result:\n",
      "0.9602400600150037\n",
      "('A_VGG19_probs_val_80000.csv', 'B_VGG19_probs_val_40000.csv', 'B_VGG19_probs_val_55000.csv', 'C_VGG19_probs_val_55000.csv', 'D_Wide28_10_probs_val_35000.csv', 'E_Wide28_10_probs_val_40000.csv', 'E_Wide28_10_probs_val_55000.csv')\n",
      "Ensemble 10 best result:\n",
      "0.9597399349837459\n",
      "('A_VGG19_probs_val_70000.csv', 'A_VGG19_probs_val_80000.csv', 'B_VGG19_probs_val_55000.csv', 'C_VGG19_probs_val_55000.csv', 'C_VGG19_probs_val_60000.csv', 'D_Wide28_10_probs_val_25000.csv', 'E_Wide28_10_probs_val_40000.csv', 'E_Wide28_10_probs_val_45000.csv', 'E_Wide28_10_probs_val_50000.csv', 'E_Wide28_10_probs_val_60000.csv')\n"
     ]
    }
   ],
   "source": [
    "def ensemble_eval(model_probabilities, labels, n, preds=True, rand_per_combination=50):\n",
    "    models = list(model_probabilities.keys())\n",
    "    combinations_ = list(combinations(models, n))\n",
    "    best_acc = 0\n",
    "    best_randoms = None\n",
    "    for combination in combinations_:\n",
    "        if rand_per_combination is None:\n",
    "            ensemble_logits = np.zeros((len(labels), 2))\n",
    "            for model in combination:\n",
    "                if preds is False:\n",
    "                    ensemble_logits += model_probabilities[model]\n",
    "                else:\n",
    "                    ensemble_logits += model_preds[model]\n",
    "            ensemble_acc = accuracy(ensemble_logits, labels)\n",
    "            if ensemble_acc > best_acc:\n",
    "                best_combination = combination\n",
    "                best_acc = ensemble_acc\n",
    "        else:\n",
    "            for _ in range(rand_per_combination):\n",
    "                ensemble_logits = np.zeros((len(labels), 2))\n",
    "                randoms = np.random.uniform(0,1,len(combinations_[0]))\n",
    "                for i, model in enumerate(combination):\n",
    "                    if preds is False:\n",
    "                        ensemble_logits += randoms[i] * model_probabilities[model]\n",
    "                    else:\n",
    "                        ensemble_logits += randoms[i] * model_preds[model]\n",
    "                ensemble_acc = accuracy(ensemble_logits, labels)\n",
    "                if ensemble_acc > best_acc:\n",
    "                    best_combination = combination\n",
    "                    best_acc = ensemble_acc\n",
    "    return best_acc, best_combination, best_randoms\n",
    "\n",
    "# best_acc_2, best_combination_2 = ensemble_eval(model_probabilities, y_val, 2)\n",
    "# best_acc_3, best_combination_3 = ensemble_eval(model_probabilities, y_val, 3)\n",
    "# best_acc_5, best_combination_5 = ensemble_eval(model_probabilities, y_val, 5)\n",
    "best_acc_7, best_combination_7, best_randoms_7 = ensemble_eval(model_probabilities, y_val, 7)\n",
    "best_acc_10, best_combination_10, best_randoms_10 = ensemble_eval(model_probabilities, y_val, 10)\n",
    "# print('Ensemble 2 best result:')\n",
    "# print(best_acc_2)\n",
    "# print(best_combination_2)\n",
    "# print('Ensemble 3 best result:')\n",
    "# print(best_acc_3)\n",
    "# print(best_combination_3)\n",
    "# print('Ensemble 5 best result:')\n",
    "# print(best_acc_5)\n",
    "# print(best_combination_5)\n",
    "print('Ensemble 7 best result:')\n",
    "print(best_acc_7)\n",
    "print(best_randoms_7)\n",
    "print(best_combination_7)\n",
    "print('Ensemble 10 best result:')\n",
    "print(best_acc_10)\n",
    "print(best_randoms_10)\n",
    "print(best_combination_10)"
   ]
  },
  {
   "cell_type": "code",
   "execution_count": null,
   "metadata": {},
   "outputs": [],
   "source": []
  }
 ],
 "metadata": {
  "kernelspec": {
   "display_name": "Python 3",
   "language": "python",
   "name": "python3"
  },
  "language_info": {
   "codemirror_mode": {
    "name": "ipython",
    "version": 3
   },
   "file_extension": ".py",
   "mimetype": "text/x-python",
   "name": "python",
   "nbconvert_exporter": "python",
   "pygments_lexer": "ipython3",
   "version": "3.6.6"
  }
 },
 "nbformat": 4,
 "nbformat_minor": 2
}
