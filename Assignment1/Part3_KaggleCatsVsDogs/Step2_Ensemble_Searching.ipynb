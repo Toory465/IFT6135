{
 "cells": [
  {
   "cell_type": "code",
   "execution_count": 1,
   "metadata": {},
   "outputs": [],
   "source": [
    "import numpy as np\n",
    "import pandas as pd\n",
    "import os\n",
    "from Utilities.evaluation_utils import *\n",
    "from Utilities.ensemble_utils import *\n",
    "from DataPreparation.dataset_preparation import get_catsvsdogs_dataset\n",
    "\n",
    "%matplotlib inline"
   ]
  },
  {
   "cell_type": "markdown",
   "metadata": {},
   "source": [
    "# Load Dataset"
   ]
  },
  {
   "cell_type": "code",
   "execution_count": 2,
   "metadata": {},
   "outputs": [],
   "source": [
    "data_dir = 'Dataset/'\n",
    "validation_split = 0.2\n",
    "split_seed = 6135"
   ]
  },
  {
   "cell_type": "code",
   "execution_count": 3,
   "metadata": {},
   "outputs": [
    {
     "name": "stdout",
     "output_type": "stream",
     "text": [
      "Train data size:  (15999, 64, 64, 3)\n",
      "Train labels size:  (15999,)\n",
      "Val data size:  (3999, 64, 64, 3)\n",
      "Val labels size:  (3999,)\n",
      "Test data size:  (4999, 64, 64, 3)\n"
     ]
    }
   ],
   "source": [
    "X_train, y_train, X_val, y_val, X_test, X_train_moments = get_catsvsdogs_dataset(data_dir,\n",
    "                                        validation_split, split_seed, normalize_train=True)\n",
    "mean_img, std_img = X_train_moments\n",
    "print('Train data size: ', X_train.shape)\n",
    "print('Train labels size: ', y_train.shape)\n",
    "print('Val data size: ', X_val.shape)\n",
    "print('Val labels size: ', y_val.shape)\n",
    "print('Test data size: ', X_test.shape)"
   ]
  },
  {
   "cell_type": "markdown",
   "metadata": {},
   "source": [
    "# Validation Logits"
   ]
  },
  {
   "cell_type": "markdown",
   "metadata": {},
   "source": [
    "### Load Validation Predictions"
   ]
  },
  {
   "cell_type": "code",
   "execution_count": 4,
   "metadata": {},
   "outputs": [
    {
     "name": "stdout",
     "output_type": "stream",
     "text": [
      "17 validation prediction CSVs loaded.\n"
     ]
    }
   ],
   "source": [
    "PATH = 'CSV/'\n",
    "file_names = os.listdir(f'{PATH}')\n",
    "file_names = [file_name for file_name in file_names if 'val' in file_name]\n",
    "model_val_logits = load_model_logits(PATH, file_names)\n",
    "model_val_predictions = logits2predictions(model_val_logits)\n",
    "print('%d validation prediction CSVs loaded.' % len(model_val_predictions))"
   ]
  },
  {
   "cell_type": "markdown",
   "metadata": {},
   "source": [
    "### Search For Best Ensemble on Validation Set"
   ]
  },
  {
   "cell_type": "code",
   "execution_count": 5,
   "metadata": {
    "scrolled": false
   },
   "outputs": [
    {
     "name": "stdout",
     "output_type": "stream",
     "text": [
      "Searching all possible 10 model combinations.\n",
      "Trying 50 random weights for each combination.\n",
      "-----------\n",
      "(05:08:30 PM) 0/19448 combinations searched...\n",
      "(05:08:57 PM) 3889/19448 combinations searched...\n",
      "(05:09:23 PM) 7778/19448 combinations searched...\n",
      "(05:09:49 PM) 11667/19448 combinations searched...\n",
      "(05:10:15 PM) 15556/19448 combinations searched...\n",
      "(05:10:41 PM) 19445/19448 combinations searched...\n",
      "Search done! Best accuracy achieved: 95.999%\n"
     ]
    }
   ],
   "source": [
    "num_ensemble_models = 10\n",
    "num_weight_search = 50\n",
    "best_ensemble = ensemble_search(model_val_predictions, y_val,\n",
    "                                num_ensemble_models, num_weight_search)"
   ]
  },
  {
   "cell_type": "markdown",
   "metadata": {},
   "source": [
    "### Print Best Ensemble Found from Search"
   ]
  },
  {
   "cell_type": "code",
   "execution_count": 6,
   "metadata": {
    "scrolled": true
   },
   "outputs": [
    {
     "name": "stdout",
     "output_type": "stream",
     "text": [
      "Best Result: Accuracy  95.999%\n",
      "Combination:\n",
      "['B_VGG19_probs_val_40000.csv' 'B_VGG19_probs_val_45000.csv'\n",
      " 'B_VGG19_probs_val_55000.csv' 'C_VGG19_probs_val_45000.csv'\n",
      " 'C_VGG19_probs_val_55000.csv' 'D_Wide28_10_probs_val_35000.csv'\n",
      " 'E_Wide28_10_probs_val_40000.csv' 'E_Wide28_10_probs_val_45000.csv'\n",
      " 'E_Wide28_10_probs_val_50000.csv' 'E_Wide28_10_probs_val_55000.csv']\n",
      "Weights:\n",
      "[0.09580687 0.01754878 0.20608302 0.05645623 0.11940935 0.08831574\n",
      " 0.22459627 0.11709245 0.04051778 0.03417352]\n"
     ]
    }
   ],
   "source": [
    "print('Best Result: Accuracy  %.3f%%' % (100*best_ensemble['acc']))\n",
    "print('Combination:')\n",
    "print(best_ensemble['combination'])\n",
    "print('Weights:')\n",
    "print(best_ensemble['weights'])"
   ]
  },
  {
   "cell_type": "markdown",
   "metadata": {},
   "source": [
    "### The Best Ensemble (for Validation Set) We Found"
   ]
  },
  {
   "cell_type": "code",
   "execution_count": 7,
   "metadata": {},
   "outputs": [
    {
     "name": "stdout",
     "output_type": "stream",
     "text": [
      "Accuracy: 96.024%\n"
     ]
    }
   ],
   "source": [
    "# best_combination = ['A_VGG19_probs_val_70000.csv', 'A_VGG19_probs_val_80000.csv',\n",
    "#                     'B_VGG19_probs_val_55000.csv', 'C_VGG19_probs_val_55000.csv',\n",
    "#                     'D_Wide28_10_probs_val_15000.csv', 'D_Wide28_10_probs_val_25000.csv',\n",
    "#                     'E_Wide28_10_probs_val_40000.csv', 'E_Wide28_10_probs_val_45000.csv',\n",
    "#                     'E_Wide28_10_probs_val_50000.csv', 'E_Wide28_10_probs_val_60000.csv']\n",
    "# best_weights = np.array([0.08185934, 0.02822021,\n",
    "#                          0.20549974, 0.10928467,\n",
    "#                          0.00154461, 0.13861998,\n",
    "#                          0.21291829, 0.02852817,\n",
    "#                          0.07212696, 0.12139803])\n",
    "\n",
    "best_combination = ['A_VGG19_probs_val_70000.csv', 'B_VGG19_probs_val_45000.csv',\n",
    "                    'B_VGG19_probs_val_55000.csv', 'C_VGG19_probs_val_55000.csv',\n",
    "                    'C_VGG19_probs_val_60000.csv', 'D_Wide28_10_probs_val_35000.csv',\n",
    "                    'E_Wide28_10_probs_val_40000.csv', 'E_Wide28_10_probs_val_45000.csv',\n",
    "                    'E_Wide28_10_probs_val_50000.csv', 'E_Wide28_10_probs_val_60000.csv']\n",
    "best_weights = np.array([0.20819787, 0.02486325,\n",
    "                         0.17434291, 0.,\n",
    "                         0.07626797, 0.05308012,\n",
    "                         0.19968367, 0.03093464,\n",
    "                         0.08773788, 0.14489168])\n",
    "\n",
    "ensemble_result = ensemble_models(model_val_predictions,\n",
    "                                  best_combination,\n",
    "                                  best_weights)\n",
    "ensemble_acc = accuracy(ensemble_result, y_val)\n",
    "print('Accuracy: %.3f%%' % (ensemble_acc * 100))"
   ]
  },
  {
   "cell_type": "markdown",
   "metadata": {},
   "source": [
    "# Ensembling for Test Set"
   ]
  },
  {
   "cell_type": "markdown",
   "metadata": {},
   "source": [
    "### Ensembe Test Predictions"
   ]
  },
  {
   "cell_type": "code",
   "execution_count": 8,
   "metadata": {},
   "outputs": [],
   "source": [
    "best_combination = ['A_VGG19_probs_70000.csv', 'B_VGG19_probs_45000.csv',\n",
    "                    'B_VGG19_probs_55000.csv', 'C_VGG19_probs_55000.csv',\n",
    "                    'C_VGG19_probs_60000.csv', 'D_Wide28_10_probs_35000.csv',\n",
    "                    'E_Wide28_10_probs_40000.csv', 'E_Wide28_10_probs_45000.csv',\n",
    "                    'E_Wide28_10_probs_50000.csv', 'E_Wide28_10_probs_60000.csv']\n",
    "test_logits = load_model_logits(PATH, best_combination)\n",
    "test_predictions = logits2predictions(test_logits)\n",
    "ensemble_result = ensemble_models(test_predictions, best_combination, best_weights)"
   ]
  },
  {
   "cell_type": "markdown",
   "metadata": {},
   "source": [
    "### Save Test Predictions as CSV"
   ]
  },
  {
   "cell_type": "code",
   "execution_count": 9,
   "metadata": {},
   "outputs": [
    {
     "name": "stdout",
     "output_type": "stream",
     "text": [
      "Ensemble_Test_Final.csv saved.\n"
     ]
    }
   ],
   "source": [
    "predictions = np.argmax(ensemble_result, axis=1)\n",
    "labels = ['Cat', 'Dog']\n",
    "save_predictions(predictions, labels, None, 'Ensemble_Test_Final')"
   ]
  },
  {
   "cell_type": "code",
   "execution_count": null,
   "metadata": {},
   "outputs": [],
   "source": []
  },
  {
   "cell_type": "code",
   "execution_count": null,
   "metadata": {},
   "outputs": [],
   "source": []
  }
 ],
 "metadata": {
  "kernelspec": {
   "display_name": "Python 3",
   "language": "python",
   "name": "python3"
  },
  "language_info": {
   "codemirror_mode": {
    "name": "ipython",
    "version": 3
   },
   "file_extension": ".py",
   "mimetype": "text/x-python",
   "name": "python",
   "nbconvert_exporter": "python",
   "pygments_lexer": "ipython3",
   "version": "3.6.6"
  }
 },
 "nbformat": 4,
 "nbformat_minor": 2
}
