{
 "cells": [
  {
   "cell_type": "code",
   "execution_count": 1,
   "metadata": {},
   "outputs": [],
   "source": [
    "import numpy as np\n",
    "import matplotlib.pyplot as plt\n",
    "import pandas as pd\n",
    "import gzip\n",
    "import os\n",
    "import sys\n",
    "import struct\n",
    "data = np.load('mnist.npz')\n",
    "%matplotlib inline"
   ]
  },
  {
   "cell_type": "code",
   "execution_count": 2,
   "metadata": {},
   "outputs": [],
   "source": [
    "def relu(x):\n",
    "    return (x > 0) * x\n",
    "\n",
    "def softmax(x, axis=1):\n",
    "    e_x = np.exp(x - np.max(x, axis=axis, keepdims=True))\n",
    "    return e_x / e_x.sum(axis=axis, keepdims=True)\n",
    "\n",
    "# def onehot(y, n_classes):\n",
    "#     o = np.zeros(shape=(y.shape[0], n_classes))\n",
    "#     for i in range(y.shape[0]):\n",
    "#         o[i, int(y[i])] = 1\n",
    "#     return o"
   ]
  },
  {
   "cell_type": "markdown",
   "metadata": {},
   "source": [
    "# Data Preparation "
   ]
  },
  {
   "cell_type": "markdown",
   "metadata": {},
   "source": [
    "#### reading data and preparing the test, train and validation sets"
   ]
  },
  {
   "cell_type": "code",
   "execution_count": 3,
   "metadata": {},
   "outputs": [],
   "source": [
    "def read_image(fi):\n",
    "    magic, n, rows, columns = struct.unpack(\">IIII\", fi.read(16))\n",
    "    assert magic == 0x00000803\n",
    "    assert rows == 28\n",
    "    assert columns == 28\n",
    "    rawbuffer = fi.read()\n",
    "    assert len(rawbuffer) == n * rows * columns\n",
    "    rawdata = np.frombuffer(rawbuffer, dtype='>u1', count=n*rows*columns)\n",
    "    return rawdata.reshape(n, rows, columns).astype(np.float32) / 255.0\n",
    "\n",
    "def read_label(fi):\n",
    "    magic, n = struct.unpack(\">II\", fi.read(8))\n",
    "    assert magic == 0x00000801\n",
    "    rawbuffer = fi.read()\n",
    "    assert len(rawbuffer) == n\n",
    "    return np.frombuffer(rawbuffer, dtype='>u1', count=n)\n",
    "\n",
    "\n",
    "# os.system('wget -N http://yann.lecun.com/exdb/mnist/train-images-idx3-ubyte.gz')\n",
    "# os.system('wget -N http://yann.lecun.com/exdb/mnist/train-labels-idx1-ubyte.gz')\n",
    "# os.system('wget -N http://yann.lecun.com/exdb/mnist/t10k-images-idx3-ubyte.gz')\n",
    "# os.system('wget -N http://yann.lecun.com/exdb/mnist/t10k-labels-idx1-ubyte.gz')\n",
    "\n",
    "# train_x=read_image(gzip.open('train-images-idx3-ubyte.gz', 'rb')),\n",
    "# train_y=read_label(gzip.open('train-labels-idx1-ubyte.gz', 'rb')),\n",
    "# test_x=read_image(gzip.open('t10k-images-idx3-ubyte.gz', 'rb')),\n",
    "# test_y=read_label(gzip.open('t10k-labels-idx1-ubyte.gz', 'rb'))"
   ]
  },
  {
   "cell_type": "code",
   "execution_count": 4,
   "metadata": {},
   "outputs": [],
   "source": [
    "data = np.load('mnist.npz')\n",
    "X_train = data['x_train'][:48000].reshape(48000, 784)\n",
    "y_train = data[\"y_train\"][:48000]\n",
    "X_valid = data['x_train'][48000:].reshape(12000, 784)\n",
    "y_valid = data[\"y_train\"][48000:]\n",
    "\n",
    "X_test = data['x_test'].reshape(10000, 784)\n",
    "y_test = data['y_test']\n",
    "\n",
    "# y_train_onehot = onehot(y_train, 10)\n",
    "# y_valid_onehot = onehot(y_valid, 10)\n",
    "# y_test_onehot = onehot(y_test, 10)"
   ]
  },
  {
   "cell_type": "code",
   "execution_count": 24,
   "metadata": {},
   "outputs": [],
   "source": [
    "class MLP:  \n",
    "    def __init__(self, init_method, input_size = 784, hidden_size = 512, output_size = 10, \n",
    "                 hidden_dims=(512,512), n_hidden=2, mode='train', datapath=None, model_path=None):\n",
    "        \n",
    "#         self.W1 = np.random.normal(0, 1, (hidden_dims[0], input_size))\n",
    "#         self.b1 = np.zeros(hidden_size)\n",
    "#         self.W2 = np.random.normal(0, 1, (hidden_dims[0], hidden_dims[1]))\n",
    "#         self.b2 = np.zeros(hidden_size)\n",
    "#         self.W3 = np.random.normal(0, 1, (output_size, hidden_dims[1]))\n",
    "#         self.b3 = np.zeros(output_size)\n",
    "        \n",
    "        d0_Glorat = np.sqrt(6 / (input_size + hidden_size))\n",
    "        W1 = np.random.uniform(-d0_Glorat, d0_Glorat, size=(hidden_size, input_size))\n",
    "        b1 = np.zeros(hidden_size)\n",
    "        d1_Glorat = np.sqrt(6 / (hidden_size + hidden_size))\n",
    "        W2 = np.random.uniform(-d1_Glorat, d1_Glorat, size=(hidden_size, hidden_size))\n",
    "        b2 = np.zeros(hidden_size)\n",
    "        d2_Glorat = np.sqrt(6 / (output_size + hidden_size))\n",
    "        W3 = np.random.uniform(-d2_Glorat, d2_Glorat, size=(output_size, hidden_size))\n",
    "        b3 = np.zeros(output_size)\n",
    "        self.Params = {'W1':W1, 'b1':b1,\n",
    "                       'W2':W2, 'b2':b2,\n",
    "                       'W3':W3, 'b3':b3}\n",
    "        \n",
    "  \n",
    "    def forward(self, x, y):\n",
    "        N = x.shape[0]\n",
    "        h1, h1_cache = self.fc_forward(x, self.Params['W1'], self.Params['b1'])\n",
    "        a1, a1_cache = self.relu_forward(h1)\n",
    "        h2, h2_cache = self.fc_forward(a1, self.Params['W2'], self.Params['b2'])\n",
    "        a2, a2_cache = self.relu_forward(h2)\n",
    "        scores, scores_cache = self.fc_forward(a2, self.Params['W3'], self.Params['b3'])\n",
    "        preds = np.argmax(scores, axis=1)\n",
    "        softmax_loss, dsoftmax = self.softmax_loss(scores, y)\n",
    "        self.cache = (N, h1_cache, a1_cache, h2_cache, a2_cache, scores_cache, dsoftmax)\n",
    "        return preds, softmax_loss\n",
    "    \n",
    "    def backward(self, weight_decay=0):\n",
    "        (N, h1_cache, a1_cache, h2_cache, a2_cache, scores_cache, dsoftmax) = self.cache\n",
    "        da2, dW3, db3= self.fc_backward(dsoftmax, scores_cache)\n",
    "        dh2 = self.relu_backward(da2, a2_cache)\n",
    "        \n",
    "        da1, dW2, db2= self.fc_backward(dh2, h2_cache)\n",
    "        dh1 = self.relu_backward(da1, a1_cache)\n",
    "        \n",
    "        _, dW1, db1= self.fc_backward(dh1, h1_cache)\n",
    "        \n",
    "        dW3 /= N\n",
    "        dW2 /= N\n",
    "        dW1 /= N\n",
    "        db3 /= N\n",
    "        db2 /= N\n",
    "        db1 /= N\n",
    "        \n",
    "        dW3 += weight_decay * self.Params['W3']\n",
    "        dW2 += weight_decay * self.Params['W2']\n",
    "        dW1 += weight_decay * self.Params['W1']\n",
    "        \n",
    "        grads = {'W1':dW1, 'b1':db1,\n",
    "                 'W2':dW2, 'b2':db2,\n",
    "                 'W3':dW3, 'b3':db3}\n",
    "        return grads\n",
    "    \n",
    "    def fc_forward(self, x, w, b):\n",
    "        out = np.dot(x, w.T) + b\n",
    "        cache = (x, w, b, out)\n",
    "        return out, cache\n",
    "    \n",
    "    def fc_backward(self, dupstream, cache):\n",
    "        (x, w, b, out) = cache\n",
    "        dx = np.dot(dupstream, w)\n",
    "        dw = np.dot(dupstream.T, x)\n",
    "        db = dupstream.sum(axis=0)\n",
    "        return dx, dw, db\n",
    "    \n",
    "    def relu_forward(self, x):\n",
    "        return np.maximum(0, x), x\n",
    "    \n",
    "    def relu_backward(self, dupstream, cache):\n",
    "        return ((cache > 0) * dupstream)  \n",
    "    \n",
    "    def softmax_loss(self, x, y):\n",
    "        \"\"\"\n",
    "        Computes the loss and gradient for softmax classification.\n",
    "        Inputs:\n",
    "        - x: Input data, of shape (N, C) where x[i, j] is the score for the jth\n",
    "          class for the ith input.\n",
    "        - y: Vector of labels, of shape (N,) where y[i] is the label for x[i] and\n",
    "          0 <= y[i] < C\n",
    "        Returns a tuple of:\n",
    "        - loss: Scalar giving the loss\n",
    "        - dx: Gradient of the loss with respect to x\n",
    "        \"\"\"\n",
    "        shifted_logits = x - np.max(x, axis=1, keepdims=True)\n",
    "        Z = np.sum(np.exp(shifted_logits), axis=1, keepdims=True)\n",
    "        log_probs = shifted_logits - np.log(Z)\n",
    "        probs = np.exp(log_probs)\n",
    "        N = x.shape[0]\n",
    "        loss = -np.sum(log_probs[np.arange(N), y]) / N\n",
    "        dx = probs.copy()\n",
    "        dx[np.arange(N), y] -= 1\n",
    "        dx /= N\n",
    "        return loss, dx\n",
    "\n",
    "    \n",
    "    def loss(self, os, y):\n",
    "        return (y * (-np.log(os))).sum(axis=1).mean(axis=0)            \n",
    "        \n",
    "    def train(self, data, target, mb_size=100, learning_rate=1e-1, weight_decay=0.):\n",
    "        for i in range(data.shape[0] // mb_size):\n",
    "            xi = data[i*mb_size:(i+1)*mb_size]\n",
    "            yi = target[i*mb_size:(i+1)*mb_size]\n",
    "            y, loss = self.forward(xi, yi)\n",
    "            average_grads = self.backward(weight_decay)\n",
    "            average_loss = loss\n",
    "            for param, grad in average_grads.items():\n",
    "                self.Params[param] -= learning_rate * grad\n",
    "        return average_loss\n",
    "    \n",
    "    def test(self, x, y):\n",
    "        preds, softmax_loss = self.forward(x, y)\n",
    "        return softmax_loss, preds"
   ]
  },
  {
   "cell_type": "code",
   "execution_count": 29,
   "metadata": {},
   "outputs": [],
   "source": [
    "def run(init_method, num_epochs = 3):\n",
    "    mlp = MLP(init_method = init_method)\n",
    "    train_accuracies, train_losses = [], []\n",
    "    valid_accuracies, valid_losses = [], []\n",
    "    test_accuracies, test_losses = [], []\n",
    "\n",
    "    for e in range(num_epochs):\n",
    "        loss = mlp.train(X_train, y_train, mb_size=100, learning_rate=1e-1)\n",
    "\n",
    "        loss_train, pred_train = mlp.test(X_train, y_train)\n",
    "        loss_valid, pred_valid = mlp.test(X_valid, y_valid)\n",
    "#         loss_test, pred_test = mlp.test(X_test, y_test)\n",
    "        valid_losses.append(loss_valid)\n",
    "#         test_losses.append(loss_test)\n",
    "#         print('~~~~~~~~~~~~')\n",
    "#         print(pred_valid[:10])\n",
    "#         print(y_valid[:10])\n",
    "        valid_accuracies.append((pred_valid == y_valid).mean())\n",
    "#         test_accuracies.append((pred_test == y_test).mean())\n",
    "        train_losses.append(loss_train)\n",
    "#         print('~~~~~~~~~~~~')\n",
    "#         print(pred_train[:10])\n",
    "#         print(y_train[:10])\n",
    "        train_accuracies.append((pred_train == y_train).mean())\n",
    "        \n",
    "    ### Plotting the loss and accuracy\n",
    "    plt.figure(figsize=(12, 4))\n",
    "    axis = plt.subplot(1, 2, 1)\n",
    "    axis.plot(range(1, len(train_losses)+1), train_losses, label='train')\n",
    "    axis.plot(range(1, len(valid_losses)+1), valid_losses, label='valid')\n",
    "#     axis.plot(range(1, len(test_losses)+1), test_losses, label='test')\n",
    "    axis.legend()\n",
    "    axis.set_ylabel('Loss')\n",
    "    axis.set_xlabel('Epochs')\n",
    "    axis = plt.subplot(1, 2, 2)\n",
    "    axis.plot(range(1, len(train_accuracies)+1), train_accuracies, label='train')\n",
    "    axis.plot(range(1, len(valid_accuracies)+1), valid_accuracies, label='valid')\n",
    "#     axis.plot(range(1, len(test_accuracies)+1), test_accuracies, label='test')\n",
    "    axis.legend()\n",
    "    axis.set_ylabel('Accuracy')\n",
    "    axis.set_xlabel('Epochs')\n",
    "\n",
    "    \n",
    "    "
   ]
  },
  {
   "cell_type": "code",
   "execution_count": 30,
   "metadata": {},
   "outputs": [],
   "source": [
    "a = np.array([[1,2,5], [3,4, 1]])"
   ]
  },
  {
   "cell_type": "code",
   "execution_count": 31,
   "metadata": {},
   "outputs": [
    {
     "data": {
      "text/plain": [
       "array([2, 1], dtype=int64)"
      ]
     },
     "execution_count": 31,
     "metadata": {},
     "output_type": "execute_result"
    }
   ],
   "source": [
    "b = np.argmax(a, axis=1)\n",
    "b"
   ]
  },
  {
   "cell_type": "code",
   "execution_count": 32,
   "metadata": {},
   "outputs": [
    {
     "data": {
      "image/png": "[encoded data removed]",
      "text/plain": [
       "<Figure size 864x288 with 2 Axes>"
      ]
     },
     "metadata": {},
     "output_type": "display_data"
    }
   ],
   "source": [
    "run(init_method = \"uniform\", num_epochs=10)"
   ]
  },
  {
   "cell_type": "code",
   "execution_count": null,
   "metadata": {},
   "outputs": [],
   "source": []
  },
  {
   "cell_type": "code",
   "execution_count": null,
   "metadata": {},
   "outputs": [],
   "source": []
  },
  {
   "cell_type": "code",
   "execution_count": null,
   "metadata": {},
   "outputs": [],
   "source": []
  },
  {
   "cell_type": "code",
   "execution_count": null,
   "metadata": {},
   "outputs": [],
   "source": []
  }
 ],
 "metadata": {
  "kernelspec": {
   "display_name": "Python 3",
   "language": "python",
   "name": "python3"
  },
  "language_info": {
   "codemirror_mode": {
    "name": "ipython",
    "version": 3
   },
   "file_extension": ".py",
   "mimetype": "text/x-python",
   "name": "python",
   "nbconvert_exporter": "python",
   "pygments_lexer": "ipython3",
   "version": "3.6.6"
  }
 },
 "nbformat": 4,
 "nbformat_minor": 2
}
