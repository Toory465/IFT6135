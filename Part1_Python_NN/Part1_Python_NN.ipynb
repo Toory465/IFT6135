{
 "cells": [
  {
   "cell_type": "code",
   "execution_count": 1,
   "metadata": {},
   "outputs": [],
   "source": [
    "import numpy as np\n",
    "import matplotlib.pyplot as plt\n",
    "import pandas as pd\n",
    "import pickle as pickle\n",
    "%matplotlib inline"
   ]
  },
  {
   "cell_type": "markdown",
   "metadata": {},
   "source": [
    "# Data Preparation "
   ]
  },
  {
   "cell_type": "markdown",
   "metadata": {},
   "source": [
    "#### Reading data and preparing the test, train and validation sets"
   ]
  },
  {
   "cell_type": "code",
   "execution_count": 2,
   "metadata": {},
   "outputs": [],
   "source": [
    "input_size = 784\n",
    "output_size = 10"
   ]
  },
  {
   "cell_type": "code",
   "execution_count": 12,
   "metadata": {},
   "outputs": [],
   "source": [
    "class NN:\n",
    "    ### __init__ Function to split the load the data and split the train set to train and validation sets\n",
    "    def __init__(self, mode, datapath=None, hidden_dims=None, hparams={}, model_path=None):\n",
    "        if mode=='train': assert (hidden_dims is not None) and bool(hparams)\n",
    "        if mode=='test': assert model_path is not None\n",
    "        self.mode = mode\n",
    "        self.model_path = model_path\n",
    "        self.lr = hparams.get('lr')\n",
    "        self.weight_decay = hparams.get('weight_decay')\n",
    "        self.num_epochs = hparams.get('num_epochs')\n",
    "        self.Params = {}\n",
    "        data = np.load(datapath)\n",
    "        # Train data\n",
    "        self.X_train = data['x_train'][:48000].reshape(48000, 784)\n",
    "        self.y_train = data['y_train'][:48000]\n",
    "        # Validation data\n",
    "        self.X_valid = data['x_train'][48000:].reshape(12000, 784)\n",
    "        self.y_valid = data['y_train'][48000:]\n",
    "        self.X_test = data['x_test'].reshape(10000, 784)\n",
    "        self.y_test = data['y_test']\n",
    "        if (mode == 'train'):\n",
    "            self.hidden_dims=(512,512)\n",
    "            self.init_method = hparams['init_method']\n",
    "            self.initialize_weights(hidden_dims)\n",
    "        elif(mode == 'test'):\n",
    "            with open(model_path,'rb') as f:\n",
    "                 self.Params = pickle.load(f)\n",
    "    \n",
    "    \n",
    "    # Initialize the fucntion in three different ways : 1. Normal 2. Glorot 3. Zero\n",
    "    def initialize_weights(self, dims):\n",
    "        n_hidden = len(dims)\n",
    "        num_nodes = [input_size] + list(dims) + [output_size]\n",
    "        print('Initialization Method: %s' % self.init_method)\n",
    "        print('--------------\\n')\n",
    "        for i in range(n_hidden + 1):\n",
    "            self.Params['b%d'%(i+1)] = np.zeros(num_nodes[i+1])\n",
    "            if self.init_method == 'Normal':\n",
    "                self.Params['W%d'%(i+1)] = np.random.normal(0, 1,\n",
    "                                                            (num_nodes[i+1], num_nodes[i]))\n",
    "            elif self.init_method == 'Glorot':\n",
    "                D_Glorot = np.sqrt(6.0 / (num_nodes[i+1] + num_nodes[i]))\n",
    "                self.Params['W%d'%(i+1)] = np.random.uniform(-D_Glorot, D_Glorot,\n",
    "                                                            (num_nodes[i+1], num_nodes[i]))\n",
    "            elif self.init_method == 'Zeros':\n",
    "                self.Params['W%d'%(i+1)] = np.zeros((num_nodes[i+1], num_nodes[i]))\n",
    "                \n",
    "            else:\n",
    "                raise ValueError('Invalid initialization type: %s' % self.init_method)\n",
    "    \n",
    "    # Forward propagation\n",
    "    def forward(self, x):\n",
    "        N = x.shape[0]\n",
    "        n_hidden = int(len(self.Params.keys()) / 2)\n",
    "        h_cache_list = []\n",
    "        a_cache_list = []\n",
    "        h = x\n",
    "        for i in range(n_hidden):\n",
    "            h, h_cache = self.fc_forward(h, self.Params['W%d'%(i+1)], self.Params['b%d'%(i+1)])\n",
    "            h_cache_list.append(h_cache)\n",
    "            if i != (n_hidden-1):\n",
    "                h, a_cache = self.relu_forward(h)\n",
    "                a_cache_list.append(a_cache)\n",
    "        scores = h\n",
    "        cache = (N, n_hidden, a_cache_list, h_cache_list)\n",
    "        return scores, cache\n",
    "    \n",
    "    # Backward function\n",
    "    def backward(self, dloss, cache):\n",
    "        (N, n_hidden, a_cache_list, h_cache_list) = cache\n",
    "        dx = dloss\n",
    "        grads = {}\n",
    "        for i in range(n_hidden, 0, -1):\n",
    "            dx, dW, db = self.fc_backward(dx, h_cache_list[i-1])\n",
    "            grads['W%d'%i] = (dW / N) + (self.weight_decay * self.Params['W%d'%i])\n",
    "            grads['b%d'%i] = (db / N)\n",
    "            if i != 1:\n",
    "                dx = self.relu_backward(dx, a_cache_list[i-2])\n",
    "        return grads\n",
    "        \n",
    "    # Computes the forward pass for an affine (fully-connected) layer.\n",
    "    def fc_forward(self, x, w, b):        \n",
    "        out = np.dot(x, w.T) + b\n",
    "        cache = (x, w, b, out)\n",
    "        return out, cache\n",
    "    \n",
    "    # Computes the backward pass for an affine (fully-connected) layer.\n",
    "    def fc_backward(self, dupstream, cache):        \n",
    "        (x, w, b, out) = cache\n",
    "        dx = np.dot(dupstream, w)\n",
    "        dw = np.dot(dupstream.T, x)\n",
    "        db = dupstream.sum(axis=0)\n",
    "        return dx, dw, db\n",
    "    \n",
    "    ### Activation function\n",
    "    def relu_forward(self, x):        \n",
    "        return np.maximum(0, x), x\n",
    "    \n",
    "    def relu_backward(self, dupstream, cache):        \n",
    "        return ((cache > 0) * dupstream)  \n",
    "    \n",
    "    # The function to update parameters    \n",
    "    def update(self, grads):\n",
    "        for param, grad in grads.items():\n",
    "                self.Params[param] -= self.lr * grad\n",
    "    \n",
    "    ### Calculate Softmax and loss using cross entropy\n",
    "    def softmax_loss(self, scores, label):\n",
    "        sh_log = scores - np.max(scores, axis=1, keepdims=True)\n",
    "        Z = np.sum(np.exp(sh_log), axis=1, keepdims=True)\n",
    "        softmax = sh_log - np.log(Z)\n",
    "        probs = np.exp(softmax)\n",
    "        dim = scores.shape[0]\n",
    "        loss = -np.sum(softmax[np.arange(dim), label]) / dim\n",
    "        x = probs.copy()\n",
    "        x[np.arange(dim), label] -= 1\n",
    "        x /= dim\n",
    "        return loss, x\n",
    "    \n",
    "    # Train function\n",
    "    def train(self, mb_size=100):\n",
    "        train_loss_hist = []\n",
    "        val_loss_hist = []\n",
    "        train_accuracies = []\n",
    "        val_accuracies = []\n",
    "        avg_loss = 0\n",
    "        for ep in range(self.num_epochs):\n",
    "            train_loss_epoch = 0\n",
    "            train_data_size = 0\n",
    "            correct_pred = 0 \n",
    "            batch_count = np.ceil(self.X_train.shape[0] / mb_size).astype('int')\n",
    "            for i in range(batch_count):\n",
    "                xi = self.X_train[i*mb_size:(i+1)*mb_size]\n",
    "                yi = self.y_train[i*mb_size:(i+1)*mb_size]\n",
    "                scores, cache = self.forward(xi)\n",
    "                pred_train = np.argmax(scores, axis=1)\n",
    "                train_loss, dloss = self.softmax_loss(scores, yi)\n",
    "                correct_pred += (pred_train == yi).sum()\n",
    "                grads = self.backward(dloss, cache)\n",
    "                self.update(grads)\n",
    "                train_loss_epoch += train_loss * len(yi)\n",
    "                train_data_size += len(yi)\n",
    "#                 if (i == batch_count):\n",
    "#                     train_loss_epoch += train_loss * np.ceil(self.X_train.shape[0] % mb_size).astype('int') \n",
    "#                     train_data_size += np.ceil(self.X_train.shape[0] % mb_size).astype('int')\n",
    "#                 else:\n",
    "#                     train_loss += train_loss * mb_size\n",
    "#                     train_data_size += mb_size\n",
    "                \n",
    "#             scores_train, _ = self.forward(self.X_train)\n",
    "#             pred_train = np.argmax(scores_train, axis=1)\n",
    "#             train_loss, _ = self.softmax_loss(scores_train, self.y_train)\n",
    "            \n",
    "            scores_val,_ = self.forward(self.X_valid)\n",
    "            pred_val = np.argmax(scores_val, axis=1)\n",
    "            val_loss, _ = self.softmax_loss(scores_val, self.y_valid)\n",
    "                \n",
    "            train_loss_hist.append(train_loss_epoch / train_data_size)\n",
    "            val_loss_hist.append(val_loss)\n",
    "            train_acc = correct_pred / train_data_size \n",
    "            val_acc = (pred_val == self.y_valid).mean()\n",
    "            train_accuracies.append(train_acc)\n",
    "            val_accuracies.append(val_acc)\n",
    "            print('Epoch %d' % ep)\n",
    "            print('Train: Loss: %.4f, Accuracy %.4f' % (train_loss_epoch / train_data_size, train_acc))\n",
    "            print('Validation: Loss: %.4f, Accuracy %.4f\\n' % (val_loss, val_acc))\n",
    "\n",
    "        train_history = {'train_loss_hist':train_loss_hist,\n",
    "                         'val_loss_hist':val_loss_hist,\n",
    "                         'train_accuracies':train_accuracies,\n",
    "                         'val_accuracies':val_accuracies}\n",
    "        if self.model_path is not None:\n",
    "            with open(self.model_path, 'wb') as f:\n",
    "                pickle.dump(self.Params, f)\n",
    "        return train_history\n",
    "    \n",
    "    # Test function \n",
    "    def test(self, x):\n",
    "        scores,_ = self.forward(x)\n",
    "        return scores"
   ]
  },
  {
   "cell_type": "markdown",
   "metadata": {},
   "source": [
    "### Helper Functions"
   ]
  },
  {
   "cell_type": "code",
   "execution_count": 7,
   "metadata": {},
   "outputs": [],
   "source": [
    "def historyPlt(train_history):\n",
    "    train_losses = train_history['train_loss_hist']\n",
    "    train_accuracies = train_history['train_accuracies']\n",
    "    valid_losses = train_history['val_loss_hist']\n",
    "    valid_accuracies = train_history['val_accuracies']\n",
    "    \n",
    "    # Plotting the loss accuracy\n",
    "    plt.figure(figsize=(12, 4))\n",
    "    axis = plt.subplot(1, 2, 1)\n",
    "    axis.plot(range(1, len(train_losses)+1), train_losses, label='train')\n",
    "#     axis.plot(range(1, len(valid_losses)+1), valid_losses, label='valid')\n",
    "    axis.legend()\n",
    "    axis.set_ylabel('Loss')\n",
    "    axis.set_xlabel('Epochs')\n",
    "\n",
    "def accuracy(scores, labels):\n",
    "    preds = np.argmax(scores, axis=1)\n",
    "    accuracy = (preds == labels).mean()\n",
    "    return accuracy"
   ]
  },
  {
   "cell_type": "markdown",
   "metadata": {},
   "source": [
    "### 1 .Train the model for 10 epochs 3 using the initialization methods above and record the average loss measured on the training data at the end of each epoch (10 values for each setup).\n",
    "\n",
    "### 2. Compare the three setups by plotting the losses against the training time (epoch) and comment on the result."
   ]
  },
  {
   "cell_type": "markdown",
   "metadata": {},
   "source": [
    "#### For this part we trian the model using 3 different initialization approach. \n",
    "#### 1.1. Initialization using Normal method"
   ]
  },
  {
   "cell_type": "code",
   "execution_count": 8,
   "metadata": {},
   "outputs": [
    {
     "name": "stdout",
     "output_type": "stream",
     "text": [
      "Initialization Method: Normal\n",
      "--------------\n",
      "\n",
      "Epoch 0\n",
      "Train: Loss: 46521411276253046343167681644770824948545234881935853481911998779482776841937198573922072476132639533400089659186592643809280.0000, Accuracy 0.1117\n",
      "Validation: Loss: 2.3024, Accuracy 0.1060\n",
      "\n"
     ]
    },
    {
     "ename": "KeyboardInterrupt",
     "evalue": "",
     "output_type": "error",
     "traceback": [
      "\u001b[1;31m---------------------------------------------------------------------------\u001b[0m",
      "\u001b[1;31mKeyboardInterrupt\u001b[0m                         Traceback (most recent call last)",
      "\u001b[1;32m<ipython-input-8-103afe4d55b3>\u001b[0m in \u001b[0;36m<module>\u001b[1;34m\u001b[0m\n\u001b[0;32m     10\u001b[0m \u001b[1;33m\u001b[0m\u001b[0m\n\u001b[0;32m     11\u001b[0m \u001b[1;31m# Start training\u001b[0m\u001b[1;33m\u001b[0m\u001b[1;33m\u001b[0m\u001b[1;33m\u001b[0m\u001b[0m\n\u001b[1;32m---> 12\u001b[1;33m \u001b[0mtrain_history_normal\u001b[0m \u001b[1;33m=\u001b[0m \u001b[0mnn\u001b[0m\u001b[1;33m.\u001b[0m\u001b[0mtrain\u001b[0m\u001b[1;33m(\u001b[0m\u001b[1;33m)\u001b[0m\u001b[1;33m\u001b[0m\u001b[1;33m\u001b[0m\u001b[0m\n\u001b[0m\u001b[0;32m     13\u001b[0m \u001b[0mprint\u001b[0m\u001b[1;33m(\u001b[0m\u001b[1;34m'Training done!'\u001b[0m\u001b[1;33m)\u001b[0m\u001b[1;33m\u001b[0m\u001b[1;33m\u001b[0m\u001b[0m\n",
      "\u001b[1;32m<ipython-input-6-7b01941f719b>\u001b[0m in \u001b[0;36mtrain\u001b[1;34m(self, mb_size)\u001b[0m\n\u001b[0;32m    133\u001b[0m                 \u001b[0mxi\u001b[0m \u001b[1;33m=\u001b[0m \u001b[0mself\u001b[0m\u001b[1;33m.\u001b[0m\u001b[0mX_train\u001b[0m\u001b[1;33m[\u001b[0m\u001b[0mi\u001b[0m\u001b[1;33m*\u001b[0m\u001b[0mmb_size\u001b[0m\u001b[1;33m:\u001b[0m\u001b[1;33m(\u001b[0m\u001b[0mi\u001b[0m\u001b[1;33m+\u001b[0m\u001b[1;36m1\u001b[0m\u001b[1;33m)\u001b[0m\u001b[1;33m*\u001b[0m\u001b[0mmb_size\u001b[0m\u001b[1;33m]\u001b[0m\u001b[1;33m\u001b[0m\u001b[1;33m\u001b[0m\u001b[0m\n\u001b[0;32m    134\u001b[0m                 \u001b[0myi\u001b[0m \u001b[1;33m=\u001b[0m \u001b[0mself\u001b[0m\u001b[1;33m.\u001b[0m\u001b[0my_train\u001b[0m\u001b[1;33m[\u001b[0m\u001b[0mi\u001b[0m\u001b[1;33m*\u001b[0m\u001b[0mmb_size\u001b[0m\u001b[1;33m:\u001b[0m\u001b[1;33m(\u001b[0m\u001b[0mi\u001b[0m\u001b[1;33m+\u001b[0m\u001b[1;36m1\u001b[0m\u001b[1;33m)\u001b[0m\u001b[1;33m*\u001b[0m\u001b[0mmb_size\u001b[0m\u001b[1;33m]\u001b[0m\u001b[1;33m\u001b[0m\u001b[1;33m\u001b[0m\u001b[0m\n\u001b[1;32m--> 135\u001b[1;33m                 \u001b[0mscores\u001b[0m\u001b[1;33m,\u001b[0m \u001b[0mcache\u001b[0m \u001b[1;33m=\u001b[0m \u001b[0mself\u001b[0m\u001b[1;33m.\u001b[0m\u001b[0mforward\u001b[0m\u001b[1;33m(\u001b[0m\u001b[0mxi\u001b[0m\u001b[1;33m)\u001b[0m\u001b[1;33m\u001b[0m\u001b[1;33m\u001b[0m\u001b[0m\n\u001b[0m\u001b[0;32m    136\u001b[0m                 \u001b[0mpred_train\u001b[0m \u001b[1;33m=\u001b[0m \u001b[0mnp\u001b[0m\u001b[1;33m.\u001b[0m\u001b[0margmax\u001b[0m\u001b[1;33m(\u001b[0m\u001b[0mscores\u001b[0m\u001b[1;33m,\u001b[0m \u001b[0maxis\u001b[0m\u001b[1;33m=\u001b[0m\u001b[1;36m1\u001b[0m\u001b[1;33m)\u001b[0m\u001b[1;33m\u001b[0m\u001b[1;33m\u001b[0m\u001b[0m\n\u001b[0;32m    137\u001b[0m                 \u001b[0mtrain_loss\u001b[0m\u001b[1;33m,\u001b[0m \u001b[0mdloss\u001b[0m \u001b[1;33m=\u001b[0m \u001b[0mself\u001b[0m\u001b[1;33m.\u001b[0m\u001b[0msoftmax_loss\u001b[0m\u001b[1;33m(\u001b[0m\u001b[0mscores\u001b[0m\u001b[1;33m,\u001b[0m \u001b[0myi\u001b[0m\u001b[1;33m)\u001b[0m\u001b[1;33m\u001b[0m\u001b[1;33m\u001b[0m\u001b[0m\n",
      "\u001b[1;32m<ipython-input-6-7b01941f719b>\u001b[0m in \u001b[0;36mforward\u001b[1;34m(self, x)\u001b[0m\n\u001b[0;32m     57\u001b[0m         \u001b[0mh\u001b[0m \u001b[1;33m=\u001b[0m \u001b[0mx\u001b[0m\u001b[1;33m\u001b[0m\u001b[1;33m\u001b[0m\u001b[0m\n\u001b[0;32m     58\u001b[0m         \u001b[1;32mfor\u001b[0m \u001b[0mi\u001b[0m \u001b[1;32min\u001b[0m \u001b[0mrange\u001b[0m\u001b[1;33m(\u001b[0m\u001b[0mn_hidden\u001b[0m\u001b[1;33m)\u001b[0m\u001b[1;33m:\u001b[0m\u001b[1;33m\u001b[0m\u001b[1;33m\u001b[0m\u001b[0m\n\u001b[1;32m---> 59\u001b[1;33m             \u001b[0mh\u001b[0m\u001b[1;33m,\u001b[0m \u001b[0mh_cache\u001b[0m \u001b[1;33m=\u001b[0m \u001b[0mself\u001b[0m\u001b[1;33m.\u001b[0m\u001b[0mfc_forward\u001b[0m\u001b[1;33m(\u001b[0m\u001b[0mh\u001b[0m\u001b[1;33m,\u001b[0m \u001b[0mself\u001b[0m\u001b[1;33m.\u001b[0m\u001b[0mParams\u001b[0m\u001b[1;33m[\u001b[0m\u001b[1;34m'W%d'\u001b[0m\u001b[1;33m%\u001b[0m\u001b[1;33m(\u001b[0m\u001b[0mi\u001b[0m\u001b[1;33m+\u001b[0m\u001b[1;36m1\u001b[0m\u001b[1;33m)\u001b[0m\u001b[1;33m]\u001b[0m\u001b[1;33m,\u001b[0m \u001b[0mself\u001b[0m\u001b[1;33m.\u001b[0m\u001b[0mParams\u001b[0m\u001b[1;33m[\u001b[0m\u001b[1;34m'b%d'\u001b[0m\u001b[1;33m%\u001b[0m\u001b[1;33m(\u001b[0m\u001b[0mi\u001b[0m\u001b[1;33m+\u001b[0m\u001b[1;36m1\u001b[0m\u001b[1;33m)\u001b[0m\u001b[1;33m]\u001b[0m\u001b[1;33m)\u001b[0m\u001b[1;33m\u001b[0m\u001b[1;33m\u001b[0m\u001b[0m\n\u001b[0m\u001b[0;32m     60\u001b[0m             \u001b[0mh_cache_list\u001b[0m\u001b[1;33m.\u001b[0m\u001b[0mappend\u001b[0m\u001b[1;33m(\u001b[0m\u001b[0mh_cache\u001b[0m\u001b[1;33m)\u001b[0m\u001b[1;33m\u001b[0m\u001b[1;33m\u001b[0m\u001b[0m\n\u001b[0;32m     61\u001b[0m             \u001b[1;32mif\u001b[0m \u001b[0mi\u001b[0m \u001b[1;33m!=\u001b[0m \u001b[1;33m(\u001b[0m\u001b[0mn_hidden\u001b[0m\u001b[1;33m-\u001b[0m\u001b[1;36m1\u001b[0m\u001b[1;33m)\u001b[0m\u001b[1;33m:\u001b[0m\u001b[1;33m\u001b[0m\u001b[1;33m\u001b[0m\u001b[0m\n",
      "\u001b[1;32m<ipython-input-6-7b01941f719b>\u001b[0m in \u001b[0;36mfc_forward\u001b[1;34m(self, x, w, b)\u001b[0m\n\u001b[0;32m     81\u001b[0m     \u001b[1;31m# Computes the forward pass for an affine (fully-connected) layer.\u001b[0m\u001b[1;33m\u001b[0m\u001b[1;33m\u001b[0m\u001b[1;33m\u001b[0m\u001b[0m\n\u001b[0;32m     82\u001b[0m     \u001b[1;32mdef\u001b[0m \u001b[0mfc_forward\u001b[0m\u001b[1;33m(\u001b[0m\u001b[0mself\u001b[0m\u001b[1;33m,\u001b[0m \u001b[0mx\u001b[0m\u001b[1;33m,\u001b[0m \u001b[0mw\u001b[0m\u001b[1;33m,\u001b[0m \u001b[0mb\u001b[0m\u001b[1;33m)\u001b[0m\u001b[1;33m:\u001b[0m\u001b[1;33m\u001b[0m\u001b[1;33m\u001b[0m\u001b[0m\n\u001b[1;32m---> 83\u001b[1;33m         \u001b[0mout\u001b[0m \u001b[1;33m=\u001b[0m \u001b[0mnp\u001b[0m\u001b[1;33m.\u001b[0m\u001b[0mdot\u001b[0m\u001b[1;33m(\u001b[0m\u001b[0mx\u001b[0m\u001b[1;33m,\u001b[0m \u001b[0mw\u001b[0m\u001b[1;33m.\u001b[0m\u001b[0mT\u001b[0m\u001b[1;33m)\u001b[0m \u001b[1;33m+\u001b[0m \u001b[0mb\u001b[0m\u001b[1;33m\u001b[0m\u001b[1;33m\u001b[0m\u001b[0m\n\u001b[0m\u001b[0;32m     84\u001b[0m         \u001b[0mcache\u001b[0m \u001b[1;33m=\u001b[0m \u001b[1;33m(\u001b[0m\u001b[0mx\u001b[0m\u001b[1;33m,\u001b[0m \u001b[0mw\u001b[0m\u001b[1;33m,\u001b[0m \u001b[0mb\u001b[0m\u001b[1;33m,\u001b[0m \u001b[0mout\u001b[0m\u001b[1;33m)\u001b[0m\u001b[1;33m\u001b[0m\u001b[1;33m\u001b[0m\u001b[0m\n\u001b[0;32m     85\u001b[0m         \u001b[1;32mreturn\u001b[0m \u001b[0mout\u001b[0m\u001b[1;33m,\u001b[0m \u001b[0mcache\u001b[0m\u001b[1;33m\u001b[0m\u001b[1;33m\u001b[0m\u001b[0m\n",
      "\u001b[1;31mKeyboardInterrupt\u001b[0m: "
     ]
    }
   ],
   "source": [
    "# Initiate hyperparameters\n",
    "hparams = {'init_method': 'Normal',\n",
    "           'lr': 1e-1,\n",
    "           'weight_decay': 0,\n",
    "           'num_epochs': 10}\n",
    "\n",
    "# Initialize NN object\n",
    "nn = NN(mode='train', datapath='./mnist.npz', hidden_dims=(512, 512), hparams=hparams,\n",
    "        model_path='Params.pkl')\n",
    "\n",
    "# Start training\n",
    "train_history_normal = nn.train()\n",
    "print('Training done!')"
   ]
  },
  {
   "cell_type": "code",
   "execution_count": 25,
   "metadata": {},
   "outputs": [
    {
     "data": {
      "image/png": "[encoded data removed]",
      "text/plain": [
       "<Figure size 864x288 with 1 Axes>"
      ]
     },
     "metadata": {
      "needs_background": "light"
     },
     "output_type": "display_data"
    }
   ],
   "source": [
    "historyPlt(train_history)"
   ]
  },
  {
   "cell_type": "markdown",
   "metadata": {},
   "source": [
    "####  1.2. Initialization using Glorot method"
   ]
  },
  {
   "cell_type": "code",
   "execution_count": 7,
   "metadata": {},
   "outputs": [
    {
     "name": "stdout",
     "output_type": "stream",
     "text": [
      "Initialization Method: Glorot\n",
      "--------------\n",
      "\n",
      "Epoch 0\n",
      "Train: Loss: 151.4287, Accuracy 0.8762\n",
      "Validation: Loss: 0.8150, Accuracy 0.9221\n",
      "\n",
      "Epoch 1\n",
      "Train: Loss: 62.9695, Accuracy 0.9459\n",
      "Validation: Loss: 0.6234, Accuracy 0.9339\n",
      "\n",
      "Epoch 2\n",
      "Train: Loss: 29.9331, Accuracy 0.9680\n",
      "Validation: Loss: 0.5584, Accuracy 0.9397\n",
      "\n",
      "Epoch 3\n",
      "Train: Loss: 18.3099, Accuracy 0.9814\n",
      "Validation: Loss: 0.5314, Accuracy 0.9419\n",
      "\n",
      "Epoch 4\n",
      "Train: Loss: 12.3659, Accuracy 0.9891\n",
      "Validation: Loss: 0.5330, Accuracy 0.9408\n",
      "\n",
      "Epoch 5\n",
      "Train: Loss: 8.0061, Accuracy 0.9941\n",
      "Validation: Loss: 0.5206, Accuracy 0.9427\n",
      "\n",
      "Epoch 6\n",
      "Train: Loss: 2.1282, Accuracy 0.9974\n",
      "Validation: Loss: 0.5096, Accuracy 0.9432\n",
      "\n",
      "Epoch 7\n",
      "Train: Loss: 0.4385, Accuracy 0.9991\n",
      "Validation: Loss: 0.4997, Accuracy 0.9453\n",
      "\n",
      "Epoch 8\n",
      "Train: Loss: 0.2213, Accuracy 0.9996\n",
      "Validation: Loss: 0.4944, Accuracy 0.9463\n",
      "\n",
      "Epoch 9\n",
      "Train: Loss: 0.1675, Accuracy 0.9998\n",
      "Validation: Loss: 0.4926, Accuracy 0.9463\n",
      "\n",
      "Training done!\n"
     ]
    }
   ],
   "source": [
    "# Initiate hyperparameters\n",
    "hparams = {'init_method': 'Glorot',\n",
    "           'lr': 1e-1,\n",
    "           'weight_decay': 0,\n",
    "           'num_epochs': 10}\n",
    "\n",
    "# Initialize NN object\n",
    "nn = NN(mode='train', datapath='./mnist.npz', hidden_dims=(512, 512), hparams=hparams,\n",
    "        model_path='Params.pkl')\n",
    "\n",
    "# Start training\n",
    "train_history_glorot = nn.train()\n",
    "print('Training done!')"
   ]
  },
  {
   "cell_type": "code",
   "execution_count": 30,
   "metadata": {},
   "outputs": [
    {
     "data": {
      "image/png": "[encoded data removed]",
      "text/plain": [
       "<Figure size 864x288 with 1 Axes>"
      ]
     },
     "metadata": {
      "needs_background": "light"
     },
     "output_type": "display_data"
    }
   ],
   "source": [
    "historyPlt(train_history)"
   ]
  },
  {
   "cell_type": "markdown",
   "metadata": {},
   "source": [
    "#### 1.3. Initialization using Zero method"
   ]
  },
  {
   "cell_type": "code",
   "execution_count": 26,
   "metadata": {},
   "outputs": [
    {
     "name": "stdout",
     "output_type": "stream",
     "text": [
      "Initialization Method: Zeros\n",
      "--------------\n",
      "\n",
      "Epoch 0\n",
      "Train: Loss: 2.3024, Accuracy 0.1140\n",
      "Validation: Loss: 2.3025, Accuracy 0.1060\n",
      "\n",
      "Epoch 1\n",
      "Train: Loss: 2.3023, Accuracy 0.1140\n",
      "Validation: Loss: 2.3024, Accuracy 0.1060\n",
      "\n",
      "Epoch 2\n",
      "Train: Loss: 2.3022, Accuracy 0.1140\n",
      "Validation: Loss: 2.3023, Accuracy 0.1060\n",
      "\n",
      "Epoch 3\n",
      "Train: Loss: 2.3021, Accuracy 0.1140\n",
      "Validation: Loss: 2.3023, Accuracy 0.1060\n",
      "\n",
      "Epoch 4\n",
      "Train: Loss: 2.3020, Accuracy 0.1140\n",
      "Validation: Loss: 2.3022, Accuracy 0.1060\n",
      "\n",
      "Epoch 5\n",
      "Train: Loss: 2.3019, Accuracy 0.1140\n",
      "Validation: Loss: 2.3022, Accuracy 0.1060\n",
      "\n",
      "Epoch 6\n",
      "Train: Loss: 2.3018, Accuracy 0.1140\n",
      "Validation: Loss: 2.3021, Accuracy 0.1060\n",
      "\n",
      "Epoch 7\n",
      "Train: Loss: 2.3017, Accuracy 0.1140\n",
      "Validation: Loss: 2.3021, Accuracy 0.1060\n",
      "\n",
      "Epoch 8\n",
      "Train: Loss: 2.3016, Accuracy 0.1140\n",
      "Validation: Loss: 2.3021, Accuracy 0.1060\n",
      "\n",
      "Epoch 9\n",
      "Train: Loss: 2.3016, Accuracy 0.1140\n",
      "Validation: Loss: 2.3020, Accuracy 0.1060\n",
      "\n",
      "Training done!\n"
     ]
    }
   ],
   "source": [
    "# Initiate hyperparameters\n",
    "hparams = {'init_method': 'Zeros',\n",
    "           'lr': 1e-1,\n",
    "           'weight_decay': 0,\n",
    "           'num_epochs': 10}\n",
    "\n",
    "# Initialize NN object\n",
    "nn = NN(mode='train', datapath='./mnist.npz', hidden_dims=(512, 512), hparams=hparams,\n",
    "        model_path='Params.pkl')\n",
    "\n",
    "# Start training\n",
    "train_history_zero = nn.train()\n",
    "print('Training done!')"
   ]
  },
  {
   "cell_type": "code",
   "execution_count": 27,
   "metadata": {},
   "outputs": [
    {
     "data": {
      "image/png": "[encoded data removed]",
      "text/plain": [
       "<Figure size 864x288 with 1 Axes>"
      ]
     },
     "metadata": {
      "needs_background": "light"
     },
     "output_type": "display_data"
    }
   ],
   "source": [
    "historyPlt(train_history)"
   ]
  },
  {
   "cell_type": "markdown",
   "metadata": {},
   "source": [
    "## Hyperparameter Search From now on, use the Glorot initialization method."
   ]
  },
  {
   "cell_type": "markdown",
   "metadata": {},
   "source": [
    "### 1. Find out a combination of hyper-parameters (model architecture, learning rate, nonlinearity, etc.) such that the average accuracy rate on the validation set (r(valid)) is at least 97%.\n",
    "### 2. Report the hyper-parameters you tried and the corresponding r(valid)."
   ]
  },
  {
   "cell_type": "markdown",
   "metadata": {},
   "source": [
    "### Optimal Hyperparameter Search"
   ]
  },
  {
   "cell_type": "code",
   "execution_count": 67,
   "metadata": {
    "scrolled": true
   },
   "outputs": [],
   "source": [
    "# # Initiate hyperparameters\n",
    "# hparams = {'init_method': 'Glorot',\n",
    "#           'num_epochs': 3}\n",
    "\n",
    "# for i in range(100):\n",
    "#     lr = 10 ** np.random.uniform(-2, 0)\n",
    "#     weight_decay = 10 ** np.random.uniform(-5, 0)\n",
    "    \n",
    "#     hparams['lr'] = lr\n",
    "#     hparams['weight_decay'] = weight_decay\n",
    "#     print('lr: %.6f'%lr)\n",
    "#     print('weight_decay: %.6f'%weight_decay)\n",
    "#     # Initialize NN object\n",
    "#     nn = NN((512,512), mode='train', hparams=hparams, datapath='./mnist.npz')\n",
    "    \n",
    "#     # Start training\n",
    "#     train_history = nn.train()\n",
    "\n",
    "\n",
    "# print('Training done!')"
   ]
  },
  {
   "cell_type": "markdown",
   "metadata": {},
   "source": [
    "##  Hyperparameters Report :"
   ]
  },
  {
   "cell_type": "raw",
   "metadata": {},
   "source": [
    "For this question, we trained the model with the following parameters:\n",
    "    \u000f learning rate : 0.13\n",
    "    \u000f batch size : 50\n",
    "    \u000f number of epochs : 10\n",
    "    \u000f weight_decay : 1e-3\n",
    "    \u000f number of neurons for l1, l2 : 600 * 250\n",
    "    \u000f Non linearity : ReLU\n",
    "    \u000f Optimizer : SGD"
   ]
  },
  {
   "cell_type": "markdown",
   "metadata": {},
   "source": [
    "## The case with at least 97%  on accuracy rate on the validation set.\n"
   ]
  },
  {
   "cell_type": "code",
   "execution_count": 20,
   "metadata": {
    "scrolled": true
   },
   "outputs": [
    {
     "name": "stdout",
     "output_type": "stream",
     "text": [
      "Initialization Method: Glorot\n",
      "--------------\n",
      "\n",
      "Epoch 0\n",
      "Train: Loss: 0.2312, Accuracy 0.9287\n",
      "Validation: Loss: 0.2640, Accuracy 0.9231\n",
      "\n",
      "Epoch 1\n",
      "Train: Loss: 0.1404, Accuracy 0.9564\n",
      "Validation: Loss: 0.1902, Accuracy 0.9439\n",
      "\n",
      "Epoch 2\n",
      "Train: Loss: 0.1023, Accuracy 0.9699\n",
      "Validation: Loss: 0.1556, Accuracy 0.9545\n",
      "\n",
      "Epoch 3\n",
      "Train: Loss: 0.0871, Accuracy 0.9746\n",
      "Validation: Loss: 0.1399, Accuracy 0.9592\n",
      "\n",
      "Epoch 4\n",
      "Train: Loss: 0.0753, Accuracy 0.9786\n",
      "Validation: Loss: 0.1248, Accuracy 0.9638\n",
      "\n",
      "Epoch 5\n",
      "Train: Loss: 0.0685, Accuracy 0.9816\n",
      "Validation: Loss: 0.1155, Accuracy 0.9666\n",
      "\n",
      "Epoch 6\n",
      "Train: Loss: 0.0664, Accuracy 0.9826\n",
      "Validation: Loss: 0.1103, Accuracy 0.9676\n",
      "\n",
      "Epoch 7\n",
      "Train: Loss: 0.0635, Accuracy 0.9837\n",
      "Validation: Loss: 0.1044, Accuracy 0.9693\n",
      "\n",
      "Epoch 8\n",
      "Train: Loss: 0.0630, Accuracy 0.9839\n",
      "Validation: Loss: 0.1015, Accuracy 0.9707\n",
      "\n",
      "Epoch 9\n",
      "Train: Loss: 0.0639, Accuracy 0.9831\n",
      "Validation: Loss: 0.1004, Accuracy 0.9711\n",
      "\n",
      "Training done!\n"
     ]
    }
   ],
   "source": [
    "# lr: 0.054004\n",
    "# weight_decay: 0.013356\n",
    "\n",
    "# Initiate hyperparameters\n",
    "hparams = {'init_method': 'Glorot',\n",
    "           'lr': 0.13,\n",
    "           'weight_decay': 1e-3,\n",
    "           'num_epochs': 10}\n",
    "\n",
    "# Initialize NN object\n",
    "nn = NN(mode='train', datapath='./mnist.npz', hidden_dims=(600, 250), hparams=hparams,\n",
    "        model_path='Params.pkl')\n",
    "\n",
    "# Start training\n",
    "train_history = nn.train()\n",
    "print('Training done!')"
   ]
  },
  {
   "cell_type": "markdown",
   "metadata": {},
   "source": [
    "####  Plot the loss of train and validation data "
   ]
  },
  {
   "cell_type": "code",
   "execution_count": 21,
   "metadata": {},
   "outputs": [
    {
     "data": {
      "image/png": "[encoded data removed]",
      "text/plain": [
       "<Figure size 864x288 with 1 Axes>"
      ]
     },
     "metadata": {
      "needs_background": "light"
     },
     "output_type": "display_data"
    }
   ],
   "source": [
    "historyPlt(train_history)"
   ]
  },
  {
   "cell_type": "code",
   "execution_count": null,
   "metadata": {},
   "outputs": [
    {
     "name": "stdout",
     "output_type": "stream",
     "text": [
      "Initialization Method: Glorot\n",
      "--------------\n",
      "\n"
     ]
    }
   ],
   "source": [
    "\n",
    "\n",
    "# Initiate hyperparameters\n",
    "hparams = {'init_method': 'Glorot',\n",
    "           'lr': 1e-1,\n",
    "           'weight_decay': 0,\n",
    "           'num_epochs': 10}\n",
    "\n",
    "# Initialize NN object\n",
    "nn = NN(mode='train', datapath='./mnist.npz', hidden_dims=(512, 512), hparams=hparams,\n",
    "        model_path='Params.pkl')\n",
    "\n",
    "# Start training\n",
    "train_history = nn.train()\n",
    "print('Training done!')"
   ]
  }
 ],
 "metadata": {
  "kernelspec": {
   "display_name": "Python 3",
   "language": "python",
   "name": "python3"
  },
  "language_info": {
   "codemirror_mode": {
    "name": "ipython",
    "version": 3
   },
   "file_extension": ".py",
   "mimetype": "text/x-python",
   "name": "python",
   "nbconvert_exporter": "python",
   "pygments_lexer": "ipython3",
   "version": "3.7.1"
  }
 },
 "nbformat": 4,
 "nbformat_minor": 2
}
