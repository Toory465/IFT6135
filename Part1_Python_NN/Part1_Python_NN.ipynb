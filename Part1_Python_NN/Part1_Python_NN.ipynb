{
 "cells": [
  {
   "cell_type": "markdown",
   "metadata": {},
   "source": [
    "# IFT6135 -  Practical Assignment  One"
   ]
  },
  {
   "cell_type": "code",
   "execution_count": 2,
   "metadata": {},
   "outputs": [],
   "source": [
    "import numpy as np\n",
    "import matplotlib.pyplot as plt\n",
    "import pandas as pd\n",
    "import pickle as pickle\n",
    "%matplotlib inline"
   ]
  },
  {
   "cell_type": "markdown",
   "metadata": {},
   "source": [
    "# Data Preparation "
   ]
  },
  {
   "cell_type": "markdown",
   "metadata": {},
   "source": [
    "#### Reading data and preparing the test, train and validation sets"
   ]
  },
  {
   "cell_type": "code",
   "execution_count": 3,
   "metadata": {},
   "outputs": [],
   "source": [
    "input_size = 784\n",
    "output_size = 10"
   ]
  },
  {
   "cell_type": "code",
   "execution_count": 36,
   "metadata": {},
   "outputs": [],
   "source": [
    "class NN:\n",
    "    ### __init__ Function to load the data and split the train set to train and validation sets\n",
    "    def __init__(self, mode, datapath=None, hidden_dims=None, hparams={}, model_path=None):\n",
    "        if mode=='train': assert (hidden_dims is not None) and bool(hparams)\n",
    "        if mode=='test': assert model_path is not None\n",
    "        self.mode = mode\n",
    "        self.model_path = model_path\n",
    "        self.lr = hparams.get('lr')\n",
    "        self.weight_decay = hparams.get('weight_decay')\n",
    "        self.num_epochs = hparams.get('num_epochs')\n",
    "        self.Params = {}\n",
    "        data = np.load(datapath)\n",
    "        # Train data\n",
    "        self.X_train = data['x_train'][:48000].reshape(48000, 784)\n",
    "        self.y_train = data['y_train'][:48000]\n",
    "        # Validation data\n",
    "        self.X_valid = data['x_train'][48000:].reshape(12000, 784)\n",
    "        self.y_valid = data['y_train'][48000:]\n",
    "        self.X_test = data['x_test'].reshape(10000, 784)\n",
    "        self.y_test = data['y_test']\n",
    "        if (mode == 'train'):\n",
    "            self.hidden_dims=(512,512)\n",
    "            self.init_method = hparams['init_method']\n",
    "            self.initialize_weights(hidden_dims)\n",
    "        elif(mode == 'test'):\n",
    "            with open(model_path,'rb') as f:\n",
    "                 self.Params = pickle.load(f)\n",
    "    \n",
    "    \n",
    "    # Initialize the fucntion in three different ways : 1. Normal 2. Glorot 3. Zero\n",
    "    def initialize_weights(self, dims):\n",
    "        n_hidden = len(dims)\n",
    "        num_nodes = [input_size] + list(dims) + [output_size]\n",
    "        print('Initialization Method: %s' % self.init_method)\n",
    "        print('--------------\\n')\n",
    "        for i in range(n_hidden + 1):\n",
    "            self.Params['b%d'%(i+1)] = np.zeros(num_nodes[i+1])\n",
    "            if self.init_method == 'Normal':\n",
    "                self.Params['W%d'%(i+1)] = np.random.normal(0, 1,\n",
    "                                                            (num_nodes[i+1], num_nodes[i]))\n",
    "            elif self.init_method == 'Glorot':\n",
    "                D_Glorot = np.sqrt(6.0 / (num_nodes[i+1] + num_nodes[i]))\n",
    "                self.Params['W%d'%(i+1)] = np.random.uniform(-D_Glorot, D_Glorot,\n",
    "                                                            (num_nodes[i+1], num_nodes[i]))\n",
    "            elif self.init_method == 'Zeros':\n",
    "                self.Params['W%d'%(i+1)] = np.zeros((num_nodes[i+1], num_nodes[i]))\n",
    "                \n",
    "            else:\n",
    "                raise ValueError('Invalid initialization type: %s' % self.init_method)\n",
    "    \n",
    "    # Forward propagation\n",
    "    def forward(self, x):\n",
    "        N = x.shape[0]\n",
    "        n_hidden = int(len(self.Params.keys()) / 2)\n",
    "        h_cache_list = []\n",
    "        a_cache_list = []\n",
    "        h = x\n",
    "        for i in range(n_hidden):\n",
    "            h, h_cache = self.fc_forward(h, self.Params['W%d'%(i+1)], self.Params['b%d'%(i+1)])\n",
    "            h_cache_list.append(h_cache)\n",
    "            if i != (n_hidden-1):\n",
    "                h, a_cache = self.relu_forward(h)\n",
    "                a_cache_list.append(a_cache)\n",
    "        scores = h\n",
    "        cache = (N, n_hidden, a_cache_list, h_cache_list)\n",
    "        return scores, cache\n",
    "    \n",
    "    # Backward function\n",
    "    def backward(self, dloss, cache):\n",
    "        (N, n_hidden, a_cache_list, h_cache_list) = cache\n",
    "        dx = dloss\n",
    "        grads = {}\n",
    "        for i in range(n_hidden, 0, -1):\n",
    "            dx, dW, db = self.fc_backward(dx, h_cache_list[i-1])\n",
    "            grads['W%d'%i] = (dW / N) + (self.weight_decay * self.Params['W%d'%i])\n",
    "            grads['b%d'%i] = (db / N)\n",
    "            if i != 1:\n",
    "                dx = self.relu_backward(dx, a_cache_list[i-2])\n",
    "        return grads\n",
    "        \n",
    "    # Computes the forward pass for an affine (fully-connected) layer.\n",
    "    def fc_forward(self, x, w, b):        \n",
    "        out = np.dot(x, w.T) + b\n",
    "        cache = (x, w, b, out)\n",
    "        return out, cache\n",
    "    \n",
    "    # Computes the backward pass for an affine (fully-connected) layer.\n",
    "    def fc_backward(self, dupstream, cache):        \n",
    "        (x, w, b, out) = cache\n",
    "        dx = np.dot(dupstream, w)\n",
    "        dw = np.dot(dupstream.T, x)\n",
    "        db = dupstream.sum(axis=0)\n",
    "        return dx, dw, db\n",
    "    \n",
    "    ### Activation function\n",
    "    def relu_forward(self, x):        \n",
    "        return np.maximum(0, x), x\n",
    "    \n",
    "    def relu_backward(self, dupstream, cache):        \n",
    "        return ((cache > 0) * dupstream)  \n",
    "    \n",
    "    # The function to update parameters    \n",
    "    def update(self, grads):\n",
    "        for param, grad in grads.items():\n",
    "                self.Params[param] -= self.lr * grad\n",
    "    \n",
    "    ### Calculate Softmax and loss using cross entropy\n",
    "    def softmax_loss(self, scores, label):\n",
    "        sh_log = scores - np.max(scores, axis=1, keepdims=True)\n",
    "        Z = np.sum(np.exp(sh_log), axis=1, keepdims=True)\n",
    "        softmax = sh_log - np.log(Z)\n",
    "        probs = np.exp(softmax)\n",
    "        dim = scores.shape[0]\n",
    "        loss = -np.sum(softmax[np.arange(dim), label]) / dim\n",
    "        x = probs.copy()\n",
    "        x[np.arange(dim), label] -= 1\n",
    "        x /= dim\n",
    "        return loss, x\n",
    "    \n",
    "    # Train function\n",
    "    def train(self, mb_size=100):\n",
    "        train_loss_hist = []\n",
    "        val_loss_hist = []\n",
    "        train_accuracies = []\n",
    "        val_accuracies = []\n",
    "        avg_loss = 0\n",
    "        for ep in range(self.num_epochs):\n",
    "            train_loss_epoch = 0\n",
    "            train_data_size = 0\n",
    "            correct_pred = 0 \n",
    "            batch_count = np.ceil(self.X_train.shape[0] / mb_size).astype('int')\n",
    "            for i in range(batch_count):\n",
    "                xi = self.X_train[i*mb_size:(i+1)*mb_size]\n",
    "                yi = self.y_train[i*mb_size:(i+1)*mb_size]\n",
    "                scores, cache = self.forward(xi)\n",
    "                pred_train = np.argmax(scores, axis=1)\n",
    "                train_loss, dloss = self.softmax_loss(scores, yi)\n",
    "                correct_pred += (pred_train == yi).sum()\n",
    "                grads = self.backward(dloss, cache)\n",
    "                self.update(grads)\n",
    "                train_loss_epoch += train_loss * len(yi)\n",
    "                train_data_size += len(yi)\n",
    "                     \n",
    "            scores_val,_ = self.forward(self.X_valid)\n",
    "            pred_val = np.argmax(scores_val, axis=1)\n",
    "            val_loss, _ = self.softmax_loss(scores_val, self.y_valid)\n",
    "                \n",
    "            train_loss_hist.append(train_loss_epoch / train_data_size)\n",
    "            val_loss_hist.append(val_loss)\n",
    "            train_acc = correct_pred / train_data_size \n",
    "            val_acc = (pred_val == self.y_valid).mean()\n",
    "            train_accuracies.append(train_acc)\n",
    "            val_accuracies.append(val_acc)\n",
    "            print('Epoch %d' % ep)\n",
    "            print('Train: Loss: %.4f, Accuracy %.4f' % (train_loss_epoch / train_data_size, train_acc))\n",
    "            print('Validation: Loss: %.4f, Accuracy %.4f\\n' % (val_loss, val_acc))\n",
    "\n",
    "        train_history = {'train_loss_hist':train_loss_hist,\n",
    "                         'val_loss_hist':val_loss_hist,\n",
    "                         'train_accuracies':train_accuracies,\n",
    "                         'val_accuracies':val_accuracies}\n",
    "        if self.model_path is not None:\n",
    "            with open(self.model_path, 'wb') as f:\n",
    "                pickle.dump(self.Params, f)\n",
    "        return train_history\n",
    "    \n",
    "    # Test function \n",
    "    def test(self, x):\n",
    "        scores,_ = self.forward(x)\n",
    "        return scores"
   ]
  },
  {
   "cell_type": "markdown",
   "metadata": {},
   "source": [
    "### Helper Functions"
   ]
  },
  {
   "cell_type": "code",
   "execution_count": 18,
   "metadata": {},
   "outputs": [],
   "source": [
    "def historyPlt(train_history):\n",
    "    train_losses = train_history['train_loss_hist']\n",
    "    train_accuracies = train_history['train_accuracies']\n",
    "    valid_losses = train_history['val_loss_hist']\n",
    "    valid_accuracies = train_history['val_accuracies']\n",
    "    \n",
    "    # Plotting the loss accuracy\n",
    "    plt.figure(figsize=(12, 4))\n",
    "    axis = plt.subplot(1, 2, 1)\n",
    "    axis.plot(range(1, len(train_losses)+1), train_losses, label='train', color = 'blue', c ='b', linewidth=3.0)\n",
    "    axis.plot(range(1, len(valid_losses)+1), valid_losses, label='valid', color = 'red', c ='b', linewidth=3.0)\n",
    "    axis.legend()\n",
    "    axis.set_ylabel('Loss')\n",
    "    axis.set_xlabel('Epochs')\n",
    "    \n",
    "    axis = plt.subplot(1, 2, 2)\n",
    "    axis.plot(range(1, len(train_accuracies)+1), train_accuracies, label='train', color = 'blue', c ='b', linewidth=3.0)\n",
    "    axis.plot(range(1, len(valid_accuracies)+1), valid_accuracies, label='valid', color = 'red', c ='b', linewidth=3.0)\n",
    "    axis.legend()\n",
    "    axis.set_ylabel('Accuracy')\n",
    "    axis.set_xlabel('Epochs')    \n",
    "    \n",
    "\n",
    "def accuracy(scores, labels):\n",
    "    preds = np.argmax(scores, axis=1)\n",
    "    accuracy = (preds == labels).mean()\n",
    "    return accuracy"
   ]
  },
  {
   "cell_type": "markdown",
   "metadata": {},
   "source": [
    "### 1 .Train the model for 10 epochs 3 using the initialization methods above and record the average loss measured on the training data at the end of each epoch (10 values for each setup).\n",
    "\n",
    "### 2. Compare the three setups by plotting the losses against the training time (epoch) and comment on the result."
   ]
  },
  {
   "cell_type": "markdown",
   "metadata": {},
   "source": [
    "#### For this part we trian the model using 3 different initialization approach. \n",
    "#### 1.1. Initialization using Normal method"
   ]
  },
  {
   "cell_type": "code",
   "execution_count": 16,
   "metadata": {},
   "outputs": [
    {
     "name": "stdout",
     "output_type": "stream",
     "text": [
      "Initialization Method: Normal\n",
      "--------------\n",
      "\n",
      "Epoch 0\n",
      "Train: Loss: 766436245291446901776873926236796245558427648.0000, Accuracy 0.1107\n",
      "Validation: Loss: 2647632.1122, Accuracy 0.1061\n",
      "\n",
      "Epoch 1\n",
      "Train: Loss: 2.3023, Accuracy 0.1140\n",
      "Validation: Loss: 2647632.1121, Accuracy 0.1061\n",
      "\n",
      "Epoch 2\n",
      "Train: Loss: 2.3022, Accuracy 0.1140\n",
      "Validation: Loss: 2647632.1121, Accuracy 0.1061\n",
      "\n",
      "Epoch 3\n",
      "Train: Loss: 2.3021, Accuracy 0.1140\n",
      "Validation: Loss: 2647632.1120, Accuracy 0.1061\n",
      "\n",
      "Epoch 4\n",
      "Train: Loss: 2.3020, Accuracy 0.1140\n",
      "Validation: Loss: 2647632.1119, Accuracy 0.1061\n",
      "\n",
      "Epoch 5\n",
      "Train: Loss: 2.3019, Accuracy 0.1140\n",
      "Validation: Loss: 2647632.1119, Accuracy 0.1061\n",
      "\n",
      "Epoch 6\n",
      "Train: Loss: 2.3018, Accuracy 0.1140\n",
      "Validation: Loss: 2647632.1119, Accuracy 0.1061\n",
      "\n",
      "Epoch 7\n",
      "Train: Loss: 2.3017, Accuracy 0.1140\n",
      "Validation: Loss: 2647632.1118, Accuracy 0.1061\n",
      "\n",
      "Epoch 8\n",
      "Train: Loss: 2.3017, Accuracy 0.1140\n",
      "Validation: Loss: 2647632.1118, Accuracy 0.1061\n",
      "\n",
      "Epoch 9\n",
      "Train: Loss: 2.3016, Accuracy 0.1140\n",
      "Validation: Loss: 2647632.1118, Accuracy 0.1061\n",
      "\n",
      "Training done!\n"
     ]
    }
   ],
   "source": [
    "# Initiate hyperparameters\n",
    "hparams = {'init_method': 'Normal',\n",
    "           'lr': 1e-1,\n",
    "           'weight_decay': 0,\n",
    "           'num_epochs': 10}\n",
    "\n",
    "# Initialize NN object\n",
    "nn = NN(mode='train', datapath='./mnist.npz', hidden_dims=(512, 512), hparams=hparams,\n",
    "        model_path='Params.pkl')\n",
    "\n",
    "# Start training\n",
    "train_history_normal = nn.train()\n",
    "print('Training done!')"
   ]
  },
  {
   "cell_type": "code",
   "execution_count": 19,
   "metadata": {},
   "outputs": [
    {
     "data": {
      "image/png": "[encoded data removed]",
      "text/plain": [
       "<Figure size 864x288 with 2 Axes>"
      ]
     },
     "metadata": {
      "needs_background": "light"
     },
     "output_type": "display_data"
    }
   ],
   "source": [
    "historyPlt(train_history_normal)"
   ]
  },
  {
   "cell_type": "markdown",
   "metadata": {},
   "source": [
    "####  1.2. Initialization using Glorot method"
   ]
  },
  {
   "cell_type": "code",
   "execution_count": 5,
   "metadata": {},
   "outputs": [
    {
     "name": "stdout",
     "output_type": "stream",
     "text": [
      "Initialization Method: Glorot\n",
      "--------------\n",
      "\n",
      "Epoch 0\n",
      "Train: Loss: 3.3376, Accuracy 0.8751\n",
      "Validation: Loss: 0.8212, Accuracy 0.9147\n",
      "\n",
      "Epoch 1\n",
      "Train: Loss: 0.4210, Accuracy 0.9468\n",
      "Validation: Loss: 0.5856, Accuracy 0.9292\n",
      "\n",
      "Epoch 2\n",
      "Train: Loss: 0.2038, Accuracy 0.9662\n",
      "Validation: Loss: 0.5339, Accuracy 0.9343\n",
      "\n",
      "Epoch 3\n",
      "Train: Loss: 0.1037, Accuracy 0.9809\n",
      "Validation: Loss: 0.4937, Accuracy 0.9378\n",
      "\n",
      "Epoch 4\n",
      "Train: Loss: 0.0559, Accuracy 0.9884\n",
      "Validation: Loss: 0.4795, Accuracy 0.9387\n",
      "\n",
      "Epoch 5\n",
      "Train: Loss: 0.0304, Accuracy 0.9940\n",
      "Validation: Loss: 0.4676, Accuracy 0.9393\n",
      "\n",
      "Epoch 6\n",
      "Train: Loss: 0.0163, Accuracy 0.9974\n",
      "Validation: Loss: 0.4618, Accuracy 0.9413\n",
      "\n",
      "Epoch 7\n",
      "Train: Loss: 0.0093, Accuracy 0.9987\n",
      "Validation: Loss: 0.4565, Accuracy 0.9433\n",
      "\n",
      "Epoch 8\n",
      "Train: Loss: 0.0055, Accuracy 0.9995\n",
      "Validation: Loss: 0.4527, Accuracy 0.9440\n",
      "\n",
      "Epoch 9\n",
      "Train: Loss: 0.0037, Accuracy 0.9998\n",
      "Validation: Loss: 0.4502, Accuracy 0.9452\n",
      "\n",
      "Training done!\n"
     ]
    }
   ],
   "source": [
    "# Initiate hyperparameters\n",
    "hparams = {'init_method': 'Glorot',\n",
    "           'lr': 1e-1,\n",
    "           'weight_decay': 0,\n",
    "           'num_epochs': 10}\n",
    "\n",
    "# Initialize NN object\n",
    "nn = NN(mode='train', datapath='./mnist.npz', hidden_dims=(512, 512), hparams=hparams,\n",
    "        model_path='Params.pkl')\n",
    "\n",
    "# Start training\n",
    "train_history_glorot = nn.train()\n",
    "print('Training done!')"
   ]
  },
  {
   "cell_type": "code",
   "execution_count": 52,
   "metadata": {},
   "outputs": [
    {
     "data": {
      "image/png": "[encoded data removed]",
      "text/plain": [
       "<Figure size 864x288 with 2 Axes>"
      ]
     },
     "metadata": {
      "needs_background": "light"
     },
     "output_type": "display_data"
    }
   ],
   "source": [
    "historyPlt(train_history_glorot)"
   ]
  },
  {
   "cell_type": "markdown",
   "metadata": {},
   "source": [
    "#### 1.3. Initialization using Zero method"
   ]
  },
  {
   "cell_type": "code",
   "execution_count": 8,
   "metadata": {},
   "outputs": [
    {
     "name": "stdout",
     "output_type": "stream",
     "text": [
      "Initialization Method: Zeros\n",
      "--------------\n",
      "\n",
      "Epoch 0\n",
      "Train: Loss: 2.3025, Accuracy 0.1136\n",
      "Validation: Loss: 2.3025, Accuracy 0.1060\n",
      "\n",
      "Epoch 1\n",
      "Train: Loss: 2.3024, Accuracy 0.1140\n",
      "Validation: Loss: 2.3024, Accuracy 0.1060\n",
      "\n",
      "Epoch 2\n",
      "Train: Loss: 2.3022, Accuracy 0.1140\n",
      "Validation: Loss: 2.3023, Accuracy 0.1060\n",
      "\n",
      "Epoch 3\n",
      "Train: Loss: 2.3021, Accuracy 0.1140\n",
      "Validation: Loss: 2.3023, Accuracy 0.1060\n",
      "\n",
      "Epoch 4\n",
      "Train: Loss: 2.3020, Accuracy 0.1140\n",
      "Validation: Loss: 2.3022, Accuracy 0.1060\n",
      "\n",
      "Epoch 5\n",
      "Train: Loss: 2.3019, Accuracy 0.1140\n",
      "Validation: Loss: 2.3022, Accuracy 0.1060\n",
      "\n",
      "Epoch 6\n",
      "Train: Loss: 2.3018, Accuracy 0.1140\n",
      "Validation: Loss: 2.3021, Accuracy 0.1060\n",
      "\n",
      "Epoch 7\n",
      "Train: Loss: 2.3017, Accuracy 0.1140\n",
      "Validation: Loss: 2.3021, Accuracy 0.1060\n",
      "\n",
      "Epoch 8\n",
      "Train: Loss: 2.3017, Accuracy 0.1140\n",
      "Validation: Loss: 2.3021, Accuracy 0.1060\n",
      "\n",
      "Epoch 9\n",
      "Train: Loss: 2.3016, Accuracy 0.1140\n",
      "Validation: Loss: 2.3020, Accuracy 0.1060\n",
      "\n",
      "Training done!\n"
     ]
    }
   ],
   "source": [
    "# Initiate hyperparameters\n",
    "hparams = {'init_method': 'Zeros',\n",
    "           'lr': 1e-1,\n",
    "           'weight_decay': 0,\n",
    "           'num_epochs': 10}\n",
    "\n",
    "# Initialize NN object\n",
    "nn = NN(mode='train', datapath='./mnist.npz', hidden_dims=(512, 512), hparams=hparams,\n",
    "        model_path='Params.pkl')\n",
    "\n",
    "# Start training\n",
    "train_history_zero = nn.train()\n",
    "print('Training done!')"
   ]
  },
  {
   "cell_type": "code",
   "execution_count": 53,
   "metadata": {},
   "outputs": [
    {
     "data": {
      "image/png": "[encoded data removed]",
      "text/plain": [
       "<Figure size 864x288 with 2 Axes>"
      ]
     },
     "metadata": {
      "needs_background": "light"
     },
     "output_type": "display_data"
    }
   ],
   "source": [
    "historyPlt(train_history_zero)"
   ]
  },
  {
   "cell_type": "markdown",
   "metadata": {},
   "source": [
    "## Hyperparameter Search From now on, use the Glorot initialization method."
   ]
  },
  {
   "cell_type": "markdown",
   "metadata": {},
   "source": [
    "### 1. Find out a combination of hyper-parameters (model architecture, learning rate, nonlinearity, etc.) such that the average accuracy rate on the validation set (r(valid)) is at least 97%.\n",
    "### 2. Report the hyper-parameters you tried and the corresponding r(valid)."
   ]
  },
  {
   "cell_type": "raw",
   "metadata": {},
   "source": [
    "For this question we have found two differnt combination of hyper parameters and initialization methods. \n",
    "1. using Glorot \n",
    "2. Using Normal initiation "
   ]
  },
  {
   "cell_type": "markdown",
   "metadata": {},
   "source": [
    "### Optimal Hyperparameter Search"
   ]
  },
  {
   "cell_type": "code",
   "execution_count": 67,
   "metadata": {
    "scrolled": true
   },
   "outputs": [],
   "source": [
    "# # Initiate hyperparameters\n",
    "# hparams = {'init_method': 'Glorot',\n",
    "#           'num_epochs': 3}\n",
    "\n",
    "# for i in range(100):\n",
    "#     lr = 10 ** np.random.uniform(-2, 0)\n",
    "#     weight_decay = 10 ** np.random.uniform(-5, 0)\n",
    "    \n",
    "#     hparams['lr'] = lr\n",
    "#     hparams['weight_decay'] = weight_decay\n",
    "#     print('lr: %.6f'%lr)\n",
    "#     print('weight_decay: %.6f'%weight_decay)\n",
    "#     # Initialize NN object\n",
    "#     nn = NN((512,512), mode='train', hparams=hparams, datapath='./mnist.npz')\n",
    "    \n",
    "#     # Start training\n",
    "#     train_history = nn.train()\n",
    "\n",
    "\n",
    "# print('Training done!')"
   ]
  },
  {
   "cell_type": "markdown",
   "metadata": {},
   "source": [
    "##  Solution 1 : Hyperparameters Report :"
   ]
  },
  {
   "cell_type": "raw",
   "metadata": {},
   "source": [
    "For this question, we trained the model with the following parameters:\n",
    "    \u000f Initialization method : Glorot \n",
    "    \u000f learning rate : 0.14\n",
    "    \u000f batch size : 50\n",
    "    \u000f number of epochs : 10\n",
    "    \u000f weight_decay : 1e-3\n",
    "    \u000f number of neurons for l1, l2 : 600 * 250\n",
    "    \u000f Non linearity : ReLU\n",
    "    \u000f Optimizer : SGD"
   ]
  },
  {
   "cell_type": "markdown",
   "metadata": {},
   "source": [
    "## The case with at least 97%  on accuracy rate on the validation set.\n"
   ]
  },
  {
   "cell_type": "code",
   "execution_count": 25,
   "metadata": {},
   "outputs": [
    {
     "name": "stdout",
     "output_type": "stream",
     "text": [
      "Initialization Method: Glorot\n",
      "--------------\n",
      "\n",
      "Epoch 0\n",
      "Train: Loss: 5.6846, Accuracy 0.8661\n",
      "Validation: Loss: 0.2605, Accuracy 0.9229\n",
      "\n",
      "Epoch 1\n",
      "Train: Loss: 0.1918, Accuracy 0.9417\n",
      "Validation: Loss: 0.1864, Accuracy 0.9453\n",
      "\n",
      "Epoch 2\n",
      "Train: Loss: 0.1393, Accuracy 0.9574\n",
      "Validation: Loss: 0.1550, Accuracy 0.9543\n",
      "\n",
      "Epoch 3\n",
      "Train: Loss: 0.1131, Accuracy 0.9663\n",
      "Validation: Loss: 0.1372, Accuracy 0.9593\n",
      "\n",
      "Epoch 4\n",
      "Train: Loss: 0.0964, Accuracy 0.9723\n",
      "Validation: Loss: 0.1254, Accuracy 0.9617\n",
      "\n",
      "Epoch 5\n",
      "Train: Loss: 0.0849, Accuracy 0.9766\n",
      "Validation: Loss: 0.1175, Accuracy 0.9639\n",
      "\n",
      "Epoch 6\n",
      "Train: Loss: 0.0767, Accuracy 0.9798\n",
      "Validation: Loss: 0.1105, Accuracy 0.9658\n",
      "\n",
      "Epoch 7\n",
      "Train: Loss: 0.0714, Accuracy 0.9817\n",
      "Validation: Loss: 0.1062, Accuracy 0.9678\n",
      "\n",
      "Epoch 8\n",
      "Train: Loss: 0.0671, Accuracy 0.9834\n",
      "Validation: Loss: 0.1028, Accuracy 0.9700\n",
      "\n",
      "Epoch 9\n",
      "Train: Loss: 0.0642, Accuracy 0.9844\n",
      "Validation: Loss: 0.1003, Accuracy 0.9712\n",
      "\n",
      "Training done!\n"
     ]
    }
   ],
   "source": [
    "# Initiate hyperparameters\n",
    "hparams = {'init_method': 'Glorot',\n",
    "           'lr': 0.14,\n",
    "           'weight_decay': 1e-3,\n",
    "           'num_epochs': 10}\n",
    "\n",
    "# Initialize NN object\n",
    "nn = NN(mode='train', datapath='./mnist.npz', hidden_dims=(600, 250), hparams=hparams,\n",
    "        model_path='Params.pkl')\n",
    "\n",
    "# Start training\n",
    "train_history = nn.train()\n",
    "print('Training done!')"
   ]
  },
  {
   "cell_type": "code",
   "execution_count": 54,
   "metadata": {},
   "outputs": [
    {
     "data": {
      "image/png": "[encoded data removed]",
      "text/plain": [
       "<Figure size 864x288 with 2 Axes>"
      ]
     },
     "metadata": {
      "needs_background": "light"
     },
     "output_type": "display_data"
    }
   ],
   "source": [
    "historyPlt(train_history)"
   ]
  },
  {
   "cell_type": "markdown",
   "metadata": {},
   "source": [
    "##  Solution 2 :  Hyperparameters Report :"
   ]
  },
  {
   "cell_type": "code",
   "execution_count": null,
   "metadata": {},
   "outputs": [],
   "source": [
    "For this question, we trained the model with the following parameters:\n",
    "    \u000f Initialization method : Normal(mean = 0, sd = 0.001) \n",
    "    \u000f learning rate : 0.14\n",
    "    \u000f batch size : 50\n",
    "    \u000f number of epochs : 10\n",
    "    \u000f weight_decay : 0\n",
    "    \u000f number of neurons for l1, l2 : 512 * 512\n",
    "    \u000f Non linearity : ReLU\n",
    "    \u000f Optimizer : SGD"
   ]
  },
  {
   "cell_type": "code",
   "execution_count": 33,
   "metadata": {},
   "outputs": [
    {
     "name": "stdout",
     "output_type": "stream",
     "text": [
      "Initialization Method: Normal\n",
      "--------------\n",
      "\n",
      "Epoch 0\n",
      "Train: Loss: 1.1431, Accuracy 0.6514\n",
      "Validation: Loss: 0.3999, Accuracy 0.8858\n",
      "\n",
      "Epoch 1\n",
      "Train: Loss: 0.2952, Accuracy 0.9145\n",
      "Validation: Loss: 0.2320, Accuracy 0.9355\n",
      "\n",
      "Epoch 2\n",
      "Train: Loss: 0.1824, Accuracy 0.9470\n",
      "Validation: Loss: 0.1615, Accuracy 0.9554\n",
      "\n",
      "Epoch 3\n",
      "Train: Loss: 0.1302, Accuracy 0.9621\n",
      "Validation: Loss: 0.1291, Accuracy 0.9626\n",
      "\n",
      "Epoch 4\n",
      "Train: Loss: 0.0998, Accuracy 0.9718\n",
      "Validation: Loss: 0.1132, Accuracy 0.9669\n",
      "\n",
      "Epoch 5\n",
      "Train: Loss: 0.0793, Accuracy 0.9776\n",
      "Validation: Loss: 0.1051, Accuracy 0.9690\n",
      "\n",
      "Epoch 6\n",
      "Train: Loss: 0.0639, Accuracy 0.9825\n",
      "Validation: Loss: 0.0996, Accuracy 0.9713\n",
      "\n",
      "Epoch 7\n",
      "Train: Loss: 0.0519, Accuracy 0.9861\n",
      "Validation: Loss: 0.0966, Accuracy 0.9725\n",
      "\n",
      "Epoch 8\n",
      "Train: Loss: 0.0424, Accuracy 0.9892\n",
      "Validation: Loss: 0.0956, Accuracy 0.9726\n",
      "\n",
      "Epoch 9\n",
      "Train: Loss: 0.0344, Accuracy 0.9918\n",
      "Validation: Loss: 0.0933, Accuracy 0.9738\n",
      "\n",
      "Training done!\n"
     ]
    }
   ],
   "source": [
    "# Initiate hyperparameters\n",
    "hparams = {'init_method': 'Normal',\n",
    "           'lr': 1e-1,\n",
    "           'weight_decay': 0,\n",
    "           'num_epochs': 10}\n",
    "\n",
    "# Initialize NN object\n",
    "nn = NN(mode='train', datapath='./mnist.npz', hidden_dims=(512, 512), hparams=hparams,\n",
    "        model_path='Params.pkl')\n",
    "\n",
    "# Start training\n",
    "train_history_normal_sd_001 = nn.train()\n",
    "print('Training done!')"
   ]
  },
  {
   "cell_type": "code",
   "execution_count": 34,
   "metadata": {},
   "outputs": [
    {
     "data": {
      "image/png": "[encoded data removed]",
      "text/plain": [
       "<Figure size 864x288 with 2 Axes>"
      ]
     },
     "metadata": {
      "needs_background": "light"
     },
     "output_type": "display_data"
    }
   ],
   "source": [
    "historyPlt(train_history_normal_sd_001)"
   ]
  }
 ],
 "metadata": {
  "kernelspec": {
   "display_name": "Python 3",
   "language": "python",
   "name": "python3"
  },
  "language_info": {
   "codemirror_mode": {
    "name": "ipython",
    "version": 3
   },
   "file_extension": ".py",
   "mimetype": "text/x-python",
   "name": "python",
   "nbconvert_exporter": "python",
   "pygments_lexer": "ipython3",
   "version": "3.7.1"
  }
 },
 "nbformat": 4,
 "nbformat_minor": 2
}
