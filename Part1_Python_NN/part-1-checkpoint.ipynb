{
 "cells": [
  {
   "cell_type": "code",
   "execution_count": 243,
   "metadata": {},
   "outputs": [],
   "source": [
    "import numpy as np\n",
    "data = np.load('mnist.npz')\n",
    "import matplotlib.pyplot as plt\n",
    "import pandas as pd\n",
    "import gzip\n",
    "import os\n",
    "import sys\n",
    "import struct\n",
    "%matplotlib inline"
   ]
  },
  {
   "cell_type": "code",
   "execution_count": 244,
   "metadata": {},
   "outputs": [],
   "source": [
    "def relu(x):\n",
    "    return (x > 0) * x\n",
    "\n",
    "def softmax(x, axis=1):\n",
    "    e_x = np.exp(x - np.max(x, axis=axis, keepdims=True))\n",
    "    return e_x / e_x.sum(axis=axis, keepdims=True)\n",
    "\n",
    "def onehot(y, n_classes):\n",
    "    o = np.zeros(shape=(y.shape[0], n_classes))\n",
    "    for i in range(y.shape[0]):\n",
    "        o[i, int(y[i])] = 1\n",
    "    return o"
   ]
  },
  {
   "cell_type": "markdown",
   "metadata": {},
   "source": [
    "# Data Preparation "
   ]
  },
  {
   "cell_type": "markdown",
   "metadata": {},
   "source": [
    "#### reading data and preparing the test, train and validation sets"
   ]
  },
  {
   "cell_type": "code",
   "execution_count": 245,
   "metadata": {},
   "outputs": [],
   "source": [
    "def read_image(fi):\n",
    "    magic, n, rows, columns = struct.unpack(\">IIII\", fi.read(16))\n",
    "    assert magic == 0x00000803\n",
    "    assert rows == 28\n",
    "    assert columns == 28\n",
    "    rawbuffer = fi.read()\n",
    "    assert len(rawbuffer) == n * rows * columns\n",
    "    rawdata = np.frombuffer(rawbuffer, dtype='>u1', count=n*rows*columns)\n",
    "    return rawdata.reshape(n, rows, columns).astype(np.float32) / 255.0\n",
    "\n",
    "def read_label(fi):\n",
    "    magic, n = struct.unpack(\">II\", fi.read(8))\n",
    "    assert magic == 0x00000801\n",
    "    rawbuffer = fi.read()\n",
    "    assert len(rawbuffer) == n\n",
    "    return np.frombuffer(rawbuffer, dtype='>u1', count=n)\n",
    "\n",
    "\n",
    "os.system('wget -N http://yann.lecun.com/exdb/mnist/train-images-idx3-ubyte.gz')\n",
    "os.system('wget -N http://yann.lecun.com/exdb/mnist/train-labels-idx1-ubyte.gz')\n",
    "os.system('wget -N http://yann.lecun.com/exdb/mnist/t10k-images-idx3-ubyte.gz')\n",
    "os.system('wget -N http://yann.lecun.com/exdb/mnist/t10k-labels-idx1-ubyte.gz')\n",
    "\n",
    "train_x=read_image(gzip.open('train-images-idx3-ubyte.gz', 'rb')),\n",
    "train_y=read_label(gzip.open('train-labels-idx1-ubyte.gz', 'rb')),\n",
    "test_x=read_image(gzip.open('t10k-images-idx3-ubyte.gz', 'rb')),\n",
    "test_y=read_label(gzip.open('t10k-labels-idx1-ubyte.gz', 'rb'))"
   ]
  },
  {
   "cell_type": "code",
   "execution_count": 246,
   "metadata": {},
   "outputs": [],
   "source": [
    "data = np.load('mnist.npz')\n",
    "X_train = data['train_x'][:55000].reshape(55000, 784)\n",
    "y_train = data[\"train_y\"][:55000]\n",
    "X_valid = data['train_x'][55000:].reshape(5000, 784)\n",
    "y_valid = data[\"train_y\"][55000:]\n",
    "\n",
    "X_test = data['test_x'].reshape(10000, 784)\n",
    "y_test = data['test_y']\n",
    "\n",
    "y_train_onehot = onehot(y_train, 10)\n",
    "y_valid_onehot = onehot(y_valid, 10)\n",
    "y_test_onehot = onehot(y_test, 10)"
   ]
  },
  {
   "cell_type": "code",
   "execution_count": 255,
   "metadata": {},
   "outputs": [],
   "source": [
    "class MLP:\n",
    "    \n",
    "      \n",
    "    def __init__(self, init_method, input_size = 784, hidden_size = 512, output_size = 10, \n",
    "                 hidden_dims=(512,512), n_hidden=2, mode='train', datapath=None, model_path=None):\n",
    "        \n",
    "        self.W1 = np.random.normal(0, 1, (hidden_dims[0], input_size))\n",
    "        self.b1 = np.zeros(hidden_size)\n",
    "        self.W2 = np.random.normal(0, 1, (hidden_dims[0], hidden_dims[1]))\n",
    "        self.b2 = np.zeros(hidden_size)\n",
    "        self.W3 = np.random.normal(0, 1, (output_size, hidden_dims[1]))\n",
    "        self.b3 = np.zeros(output_size)\n",
    "\n",
    "        self.parameters = [self.b1, self.W1, self.b2, self.W2, self.b3, self.W3]\n",
    "        \n",
    "  \n",
    "    def forward(self, x):\n",
    "        y_1 = np.dot(x, self.W1.T) + self.b1\n",
    "        r_1 = relu(y_1)\n",
    "        y_2 = np.dot(r_1, self.W2.T) + self.b2\n",
    "        r_2 = relu(y_2)\n",
    "        y_3 = np.dot(r_2, self.W3.T) + self.b3      \n",
    "        os = softmax(y_3, axis=1)\n",
    "        return y_1, r_1,  y_2, r_2,  y_3, os\n",
    "    \n",
    "    def backward(self, y, x, y_1, r_1,  y_2, r_2,  y_3,  os, weight_decay=0):\n",
    "        bs = x.shape[0]\n",
    "        d_y_3 = os - y\n",
    "        d_r_2 = np.dot(d_y_3, self.W3)\n",
    "        d_y_2 = (y_2 > 0) * d_r_2\n",
    "        d_r_1 = np.dot(d_y_2, self.W2)\n",
    "        d_y_1 = (y_1 > 0) * d_r_1\n",
    "        \n",
    "        d_W3 = np.dot(d_y_3.T, r_2) / bs + weight_decay * self.W3\n",
    "        d_b3 = d_y_3.mean(axis=0)\n",
    "        d_W2 = np.dot(d_y_2.T, r_1) / bs + weight_decay * self.W2\n",
    "        d_b2 = d_y_2.mean(axis=0)\n",
    "        d_W1 = np.dot(d_y_1.T , x) / bs + weight_decay * self.W1\n",
    "        d_b1 = d_y_1.mean(axis=0)\n",
    "        return d_b1, d_W1, d_b2, d_W2, d_b3, d_W3\n",
    "    \n",
    "    \n",
    "    def loss(self, os, y):\n",
    "        return (y * (-np.log(os))).sum(axis=1).mean(axis=0)            \n",
    "        \n",
    "    def train(self, data, target, mb_size=100, learning_rate=1e-1, weight_decay=0.):\n",
    "        for i in range(data.shape[0] // mb_size):\n",
    "            xi = data[i*mb_size:(i+1)*mb_size]\n",
    "            yi = target[i*mb_size:(i+1)*mb_size]\n",
    "            y_1, r_1,  y_2, r_2,  y_3, os = self.forward(xi)\n",
    "            average_grads = self.backward(yi, xi,  y_1, r_1,  y_2, r_2,  y_3, os , weight_decay)\n",
    "            average_loss = self.loss(os, yi)\n",
    "            for p, grad in zip(self.parameters, average_grads):\n",
    "                p -= learning_rate * grad\n",
    "        return average_loss\n",
    "    \n",
    "    def mat_predict(self, x):\n",
    "        _, _, _, _, _, os = self.forward(x)\n",
    "        return os.argmax(axis=1)\n",
    "    \n",
    "    def test(self, x, y):\n",
    "        _, _, _, _, _, os = self.forward(x)\n",
    "        return self.loss(os, y), os.argmax(axis=1)"
   ]
  },
  {
   "cell_type": "code",
   "execution_count": 251,
   "metadata": {},
   "outputs": [],
   "source": [
    "def run(init_method, num_epoche = 10):\n",
    "    mlp = MLP(init_method = init_method)\n",
    "    train_accuracies, train_losses = [], []\n",
    "    valid_accuracies, valid_losses = [], []\n",
    "    test_accuracies, test_losses = [], []\n",
    "\n",
    "    for e in range(num_epoche):\n",
    "        loss = mlp.train(X_train, y_train_onehot, mb_size=100, learning_rate=1e-1)\n",
    "\n",
    "        loss_train, pred_train = mlp.test(X_train, y_train_onehot)\n",
    "        loss_valid, pred_valid = mlp.test(X_valid, y_valid_onehot)\n",
    "        loss_test, pred_test = mlp.test(X_test, y_test_onehot)\n",
    "        valid_losses.append(loss_valid)\n",
    "        test_losses.append(loss_test)\n",
    "        valid_accuracies.append((pred_valid == y_valid).mean())\n",
    "        test_accuracies.append((pred_test == y_test).mean())\n",
    "        train_losses.append(loss_train)\n",
    "        train_accuracies.append((pred_train == y_train).mean())\n",
    "        \n",
    "    ### Plotting the loss and accuracy\n",
    "    plt.figure(figsize=(12, 4))\n",
    "    axis = plt.subplot(1, 2, 1)\n",
    "    axis.plot(range(1, len(train_losses)+1), train_losses, label='train')\n",
    "    axis.plot(range(1, len(valid_losses)+1), valid_losses, label='valid')\n",
    "    axis.plot(range(1, len(test_losses)+1), test_losses, label='test')\n",
    "    axis.legend()\n",
    "    axis.set_ylabel('Loss')\n",
    "    axis.set_xlabel('Epochs')\n",
    "    axis = plt.subplot(1, 2, 2)\n",
    "    axis.plot(range(1, len(train_accuracies)+1), train_accuracies, label='train')\n",
    "    axis.plot(range(1, len(valid_accuracies)+1), valid_accuracies, label='valid')\n",
    "    axis.plot(range(1, len(test_accuracies)+1), test_accuracies, label='test')\n",
    "    axis.legend()\n",
    "    axis.set_ylabel('Accuracy')\n",
    "    axis.set_xlabel('Epochs')\n",
    "\n",
    "    \n",
    "    "
   ]
  },
  {
   "cell_type": "code",
   "execution_count": 252,
   "metadata": {},
   "outputs": [
    {
     "data": {
      "image/png": "[encoded data removed]",
      "text/plain": [
       "<Figure size 864x288 with 2 Axes>"
      ]
     },
     "metadata": {
      "needs_background": "light"
     },
     "output_type": "display_data"
    }
   ],
   "source": [
    "run(init_method = \"uniform\")"
   ]
  },
  {
   "cell_type": "code",
   "execution_count": null,
   "metadata": {},
   "outputs": [],
   "source": []
  }
 ],
 "metadata": {
  "kernelspec": {
   "display_name": "Python 3",
   "language": "python",
   "name": "python3"
  },
  "language_info": {
   "codemirror_mode": {
    "name": "ipython",
    "version": 3
   },
   "file_extension": ".py",
   "mimetype": "text/x-python",
   "name": "python",
   "nbconvert_exporter": "python",
   "pygments_lexer": "ipython3",
   "version": "3.7.1"
  }
 },
 "nbformat": 4,
 "nbformat_minor": 2
}
