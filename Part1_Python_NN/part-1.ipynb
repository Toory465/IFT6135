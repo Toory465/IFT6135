{
 "cells": [
  {
   "cell_type": "code",
   "execution_count": 25,
   "metadata": {},
   "outputs": [],
   "source": [
    "import numpy as np\n",
    "import matplotlib.pyplot as plt\n",
    "import pandas as pd\n",
    "import gzip\n",
    "import os\n",
    "import sys\n",
    "import struct\n",
    "data = np.load('mnist.npz')\n",
    "%matplotlib inline"
   ]
  },
  {
   "cell_type": "code",
   "execution_count": 26,
   "metadata": {},
   "outputs": [],
   "source": [
    "def relu(x):\n",
    "    return (x > 0) * x\n",
    "\n",
    "def softmax(x, axis=1):\n",
    "    e_x = np.exp(x - np.max(x, axis=axis, keepdims=True))\n",
    "    return e_x / e_x.sum(axis=axis, keepdims=True)\n",
    "\n",
    "def onehot(y, n_classes):\n",
    "    o = np.zeros(shape=(y.shape[0], n_classes))\n",
    "    for i in range(y.shape[0]):\n",
    "        o[i, int(y[i])] = 1\n",
    "    return o"
   ]
  },
  {
   "cell_type": "markdown",
   "metadata": {},
   "source": [
    "# Data Preparation "
   ]
  },
  {
   "cell_type": "markdown",
   "metadata": {},
   "source": [
    "#### reading data and preparing the test, train and validation sets"
   ]
  },
  {
   "cell_type": "code",
   "execution_count": 32,
   "metadata": {},
   "outputs": [
    {
     "ename": "FileNotFoundError",
     "evalue": "[Errno 2] No such file or directory: 'train-images-idx3-ubyte.gz'",
     "output_type": "error",
     "traceback": [
      "\u001b[0;31m---------------------------------------------------------------------------\u001b[0m",
      "\u001b[0;31mFileNotFoundError\u001b[0m                         Traceback (most recent call last)",
      "\u001b[0;32m<ipython-input-32-40e7ebfc14fb>\u001b[0m in \u001b[0;36m<module>\u001b[0;34m()\u001b[0m\n\u001b[1;32m     22\u001b[0m \u001b[0mos\u001b[0m\u001b[0;34m.\u001b[0m\u001b[0msystem\u001b[0m\u001b[0;34m(\u001b[0m\u001b[0;34m'wget -N http://yann.lecun.com/exdb/mnist/t10k-labels-idx1-ubyte.gz'\u001b[0m\u001b[0;34m)\u001b[0m\u001b[0;34m\u001b[0m\u001b[0m\n\u001b[1;32m     23\u001b[0m \u001b[0;34m\u001b[0m\u001b[0m\n\u001b[0;32m---> 24\u001b[0;31m \u001b[0mtrain_x\u001b[0m\u001b[0;34m=\u001b[0m\u001b[0mread_image\u001b[0m\u001b[0;34m(\u001b[0m\u001b[0mgzip\u001b[0m\u001b[0;34m.\u001b[0m\u001b[0mopen\u001b[0m\u001b[0;34m(\u001b[0m\u001b[0;34m'train-images-idx3-ubyte.gz'\u001b[0m\u001b[0;34m,\u001b[0m \u001b[0;34m'rb'\u001b[0m\u001b[0;34m)\u001b[0m\u001b[0;34m)\u001b[0m\u001b[0;34m,\u001b[0m\u001b[0;34m\u001b[0m\u001b[0m\n\u001b[0m\u001b[1;32m     25\u001b[0m \u001b[0mtrain_y\u001b[0m\u001b[0;34m=\u001b[0m\u001b[0mread_label\u001b[0m\u001b[0;34m(\u001b[0m\u001b[0mgzip\u001b[0m\u001b[0;34m.\u001b[0m\u001b[0mopen\u001b[0m\u001b[0;34m(\u001b[0m\u001b[0;34m'train-labels-idx1-ubyte.gz'\u001b[0m\u001b[0;34m,\u001b[0m \u001b[0;34m'rb'\u001b[0m\u001b[0;34m)\u001b[0m\u001b[0;34m)\u001b[0m\u001b[0;34m,\u001b[0m\u001b[0;34m\u001b[0m\u001b[0m\n\u001b[1;32m     26\u001b[0m \u001b[0mtest_x\u001b[0m\u001b[0;34m=\u001b[0m\u001b[0mread_image\u001b[0m\u001b[0;34m(\u001b[0m\u001b[0mgzip\u001b[0m\u001b[0;34m.\u001b[0m\u001b[0mopen\u001b[0m\u001b[0;34m(\u001b[0m\u001b[0;34m't10k-images-idx3-ubyte.gz'\u001b[0m\u001b[0;34m,\u001b[0m \u001b[0;34m'rb'\u001b[0m\u001b[0;34m)\u001b[0m\u001b[0;34m)\u001b[0m\u001b[0;34m,\u001b[0m\u001b[0;34m\u001b[0m\u001b[0m\n",
      "\u001b[0;32m~/anaconda3/lib/python3.7/gzip.py\u001b[0m in \u001b[0;36mopen\u001b[0;34m(filename, mode, compresslevel, encoding, errors, newline)\u001b[0m\n\u001b[1;32m     51\u001b[0m     \u001b[0mgz_mode\u001b[0m \u001b[0;34m=\u001b[0m \u001b[0mmode\u001b[0m\u001b[0;34m.\u001b[0m\u001b[0mreplace\u001b[0m\u001b[0;34m(\u001b[0m\u001b[0;34m\"t\"\u001b[0m\u001b[0;34m,\u001b[0m \u001b[0;34m\"\"\u001b[0m\u001b[0;34m)\u001b[0m\u001b[0;34m\u001b[0m\u001b[0m\n\u001b[1;32m     52\u001b[0m     \u001b[0;32mif\u001b[0m \u001b[0misinstance\u001b[0m\u001b[0;34m(\u001b[0m\u001b[0mfilename\u001b[0m\u001b[0;34m,\u001b[0m \u001b[0;34m(\u001b[0m\u001b[0mstr\u001b[0m\u001b[0;34m,\u001b[0m \u001b[0mbytes\u001b[0m\u001b[0;34m,\u001b[0m \u001b[0mos\u001b[0m\u001b[0;34m.\u001b[0m\u001b[0mPathLike\u001b[0m\u001b[0;34m)\u001b[0m\u001b[0;34m)\u001b[0m\u001b[0;34m:\u001b[0m\u001b[0;34m\u001b[0m\u001b[0m\n\u001b[0;32m---> 53\u001b[0;31m         \u001b[0mbinary_file\u001b[0m \u001b[0;34m=\u001b[0m \u001b[0mGzipFile\u001b[0m\u001b[0;34m(\u001b[0m\u001b[0mfilename\u001b[0m\u001b[0;34m,\u001b[0m \u001b[0mgz_mode\u001b[0m\u001b[0;34m,\u001b[0m \u001b[0mcompresslevel\u001b[0m\u001b[0;34m)\u001b[0m\u001b[0;34m\u001b[0m\u001b[0m\n\u001b[0m\u001b[1;32m     54\u001b[0m     \u001b[0;32melif\u001b[0m \u001b[0mhasattr\u001b[0m\u001b[0;34m(\u001b[0m\u001b[0mfilename\u001b[0m\u001b[0;34m,\u001b[0m \u001b[0;34m\"read\"\u001b[0m\u001b[0;34m)\u001b[0m \u001b[0;32mor\u001b[0m \u001b[0mhasattr\u001b[0m\u001b[0;34m(\u001b[0m\u001b[0mfilename\u001b[0m\u001b[0;34m,\u001b[0m \u001b[0;34m\"write\"\u001b[0m\u001b[0;34m)\u001b[0m\u001b[0;34m:\u001b[0m\u001b[0;34m\u001b[0m\u001b[0m\n\u001b[1;32m     55\u001b[0m         \u001b[0mbinary_file\u001b[0m \u001b[0;34m=\u001b[0m \u001b[0mGzipFile\u001b[0m\u001b[0;34m(\u001b[0m\u001b[0;32mNone\u001b[0m\u001b[0;34m,\u001b[0m \u001b[0mgz_mode\u001b[0m\u001b[0;34m,\u001b[0m \u001b[0mcompresslevel\u001b[0m\u001b[0;34m,\u001b[0m \u001b[0mfilename\u001b[0m\u001b[0;34m)\u001b[0m\u001b[0;34m\u001b[0m\u001b[0m\n",
      "\u001b[0;32m~/anaconda3/lib/python3.7/gzip.py\u001b[0m in \u001b[0;36m__init__\u001b[0;34m(self, filename, mode, compresslevel, fileobj, mtime)\u001b[0m\n\u001b[1;32m    161\u001b[0m             \u001b[0mmode\u001b[0m \u001b[0;34m+=\u001b[0m \u001b[0;34m'b'\u001b[0m\u001b[0;34m\u001b[0m\u001b[0m\n\u001b[1;32m    162\u001b[0m         \u001b[0;32mif\u001b[0m \u001b[0mfileobj\u001b[0m \u001b[0;32mis\u001b[0m \u001b[0;32mNone\u001b[0m\u001b[0;34m:\u001b[0m\u001b[0;34m\u001b[0m\u001b[0m\n\u001b[0;32m--> 163\u001b[0;31m             \u001b[0mfileobj\u001b[0m \u001b[0;34m=\u001b[0m \u001b[0mself\u001b[0m\u001b[0;34m.\u001b[0m\u001b[0mmyfileobj\u001b[0m \u001b[0;34m=\u001b[0m \u001b[0mbuiltins\u001b[0m\u001b[0;34m.\u001b[0m\u001b[0mopen\u001b[0m\u001b[0;34m(\u001b[0m\u001b[0mfilename\u001b[0m\u001b[0;34m,\u001b[0m \u001b[0mmode\u001b[0m \u001b[0;32mor\u001b[0m \u001b[0;34m'rb'\u001b[0m\u001b[0;34m)\u001b[0m\u001b[0;34m\u001b[0m\u001b[0m\n\u001b[0m\u001b[1;32m    164\u001b[0m         \u001b[0;32mif\u001b[0m \u001b[0mfilename\u001b[0m \u001b[0;32mis\u001b[0m \u001b[0;32mNone\u001b[0m\u001b[0;34m:\u001b[0m\u001b[0;34m\u001b[0m\u001b[0m\n\u001b[1;32m    165\u001b[0m             \u001b[0mfilename\u001b[0m \u001b[0;34m=\u001b[0m \u001b[0mgetattr\u001b[0m\u001b[0;34m(\u001b[0m\u001b[0mfileobj\u001b[0m\u001b[0;34m,\u001b[0m \u001b[0;34m'name'\u001b[0m\u001b[0;34m,\u001b[0m \u001b[0;34m''\u001b[0m\u001b[0;34m)\u001b[0m\u001b[0;34m\u001b[0m\u001b[0m\n",
      "\u001b[0;31mFileNotFoundError\u001b[0m: [Errno 2] No such file or directory: 'train-images-idx3-ubyte.gz'"
     ]
    }
   ],
   "source": [
    "def read_image(fi):\n",
    "    magic, n, rows, columns = struct.unpack(\">IIII\", fi.read(16))\n",
    "    assert magic == 0x00000803\n",
    "    assert rows == 28\n",
    "    assert columns == 28\n",
    "    rawbuffer = fi.read()\n",
    "    assert len(rawbuffer) == n * rows * columns\n",
    "    rawdata = np.frombuffer(rawbuffer, dtype='>u1', count=n*rows*columns)\n",
    "    return rawdata.reshape(n, rows, columns).astype(np.float32) / 255.0\n",
    "\n",
    "def read_label(fi):\n",
    "    magic, n = struct.unpack(\">II\", fi.read(8))\n",
    "    assert magic == 0x00000801\n",
    "    rawbuffer = fi.read()\n",
    "    assert len(rawbuffer) == n\n",
    "    return np.frombuffer(rawbuffer, dtype='>u1', count=n)\n",
    "\n",
    "\n",
    "os.system('wget -N http://yann.lecun.com/exdb/mnist/train-images-idx3-ubyte.gz')\n",
    "os.system('wget -N http://yann.lecun.com/exdb/mnist/train-labels-idx1-ubyte.gz')\n",
    "os.system('wget -N http://yann.lecun.com/exdb/mnist/t10k-images-idx3-ubyte.gz')\n",
    "os.system('wget -N http://yann.lecun.com/exdb/mnist/t10k-labels-idx1-ubyte.gz')\n",
    "\n",
    "train_x=read_image(gzip.open('train-images-idx3-ubyte.gz', 'rb')),\n",
    "train_y=read_label(gzip.open('train-labels-idx1-ubyte.gz', 'rb')),\n",
    "test_x=read_image(gzip.open('t10k-images-idx3-ubyte.gz', 'rb')),\n",
    "test_y=read_label(gzip.open('t10k-labels-idx1-ubyte.gz', 'rb'))"
   ]
  },
  {
   "cell_type": "code",
   "execution_count": 38,
   "metadata": {},
   "outputs": [],
   "source": [
    "data = np.load('mnist.npz')\n",
    "X_train = data['x_train'][:48000].reshape(48000, 784)\n",
    "y_train = data[\"y_train\"][:48000]\n",
    "X_valid = data['x_train'][48000:].reshape(12000, 784)\n",
    "y_valid = data[\"y_train\"][48000:]\n",
    "\n",
    "X_test = data['x_test'].reshape(10000, 784)\n",
    "y_test = data['y_test']\n",
    "\n",
    "y_train_onehot = onehot(y_train, 10)\n",
    "y_valid_onehot = onehot(y_valid, 10)\n",
    "y_test_onehot = onehot(y_test, 10)"
   ]
  },
  {
   "cell_type": "code",
   "execution_count": 86,
   "metadata": {},
   "outputs": [],
   "source": [
    "class MLP:\n",
    "    \n",
    "      \n",
    "    def __init__(self, init_method, input_size = 784, hidden_size = 512, output_size = 10, \n",
    "                 hidden_dims=(512,512), n_hidden=2, mode='train', datapath=None, model_path=None):\n",
    "        \n",
    "        self.W1 = np.random.normal(0, 1, (hidden_dims[0], input_size))\n",
    "        self.b1 = np.zeros(hidden_size)\n",
    "        self.W2 = np.random.normal(0, 1, (hidden_dims[0], hidden_dims[1]))\n",
    "        self.b2 = np.zeros(hidden_size)\n",
    "        self.W3 = np.random.normal(0, 1, (output_size, hidden_dims[1]))\n",
    "        self.b3 = np.zeros(output_size)\n",
    "        \n",
    "        d0_Glorat = np.sqrt(6 / input_size + hidden_size)\n",
    "        self.W1 = np.random.uniform(-d0_Glorat, d0_Glorat, size=(hidden_size, input_size))\n",
    "        self.b1 = np.zeros(hidden_size)\n",
    "        d1_Glorat = np.sqrt(6 / hidden_size + hidden_size)\n",
    "        self.W2 = np.random.uniform(-d1_Glorat, d1_Glorat, size=(hidden_size, hidden_size))\n",
    "        self.b2 = np.zeros(hidden_size)\n",
    "        d2_Glorat = np.sqrt(6 / output_size + hidden_size)\n",
    "        self.W3 = np.random.uniform(-d2_Glorat, d2_Glorat, size=(output_size, hidden_size))\n",
    "        self.b3 = np.zeros(output_size)\n",
    "\n",
    "        self.parameters = [self.b1, self.W1, self.b2, self.W2, self.b3, self.W3]\n",
    "        \n",
    "  \n",
    "    def forward(self, x):\n",
    "        y_1 = np.dot(x, self.W1.T) + self.b1\n",
    "        r_1 = relu(y_1)\n",
    "        y_2 = np.dot(r_1, self.W2.T) + self.b2\n",
    "        r_2 = relu(y_2)\n",
    "        y_3 = np.dot(r_2, self.W3.T) + self.b3      \n",
    "        os = softmax(y_3, axis=1)\n",
    "        return y_1, r_1,  y_2, r_2,  y_3, os\n",
    "    \n",
    "    def backward(self, y, x, y_1, r_1,  y_2, r_2,  y_3,  os, weight_decay=0):\n",
    "        bs = x.shape[0]\n",
    "        y = np.argmax(y, axis = 1)\n",
    "        loss, d_y_3 = self.softmax_loss(y_3, y)\n",
    "        d_r_2 = np.dot(d_y_3, self.W3)\n",
    "        d_y_2 = (y_2 > 0) * d_r_2\n",
    "        d_r_1 = np.dot(d_y_2, self.W2)\n",
    "        d_y_1 = (y_1 > 0) * d_r_1\n",
    "        \n",
    "        d_W3 = np.dot(d_y_3.T, r_2) / bs + weight_decay * self.W3\n",
    "        d_b3 = d_y_3.mean(axis=0)\n",
    "        d_W2 = np.dot(d_y_2.T, r_1) / bs + weight_decay * self.W2\n",
    "        d_b2 = d_y_2.mean(axis=0)\n",
    "        d_W1 = np.dot(d_y_1.T , x) / bs + weight_decay * self.W1\n",
    "        d_b1 = d_y_1.mean(axis=0)\n",
    "        return d_b1, d_W1, d_b2, d_W2, d_b3, d_W3\n",
    "    \n",
    "    \n",
    "    def softmax_loss(self, x, y):\n",
    "        \"\"\"\n",
    "        Computes the loss and gradient for softmax classification.\n",
    "        Inputs:\n",
    "        - x: Input data, of shape (N, C) where x[i, j] is the score for the jth\n",
    "          class for the ith input.\n",
    "        - y: Vector of labels, of shape (N,) where y[i] is the label for x[i] and\n",
    "          0 <= y[i] < C\n",
    "        Returns a tuple of:\n",
    "        - loss: Scalar giving the loss\n",
    "        - dx: Gradient of the loss with respect to x\n",
    "        \"\"\"\n",
    "        shifted_logits = x - np.max(x, axis=1, keepdims=True)\n",
    "        Z = np.sum(np.exp(shifted_logits), axis=1, keepdims=True)\n",
    "        log_probs = shifted_logits - np.log(Z)\n",
    "        probs = np.exp(log_probs)\n",
    "        N = x.shape[0]\n",
    "        loss = -np.sum(log_probs[np.arange(N), y]) / N\n",
    "        dx = probs.copy()\n",
    "        dx[np.arange(N), y] -= 1\n",
    "        dx /= N\n",
    "        return loss, dx\n",
    "\n",
    "    \n",
    "    def loss(self, os, y):\n",
    "        return (y * (-np.log(os))).sum(axis=1).mean(axis=0)            \n",
    "        \n",
    "    def train(self, data, target, mb_size=100, learning_rate=1e-1, weight_decay=0.):\n",
    "        for i in range(data.shape[0] // mb_size):\n",
    "            xi = data[i*mb_size:(i+1)*mb_size]\n",
    "            yi = target[i*mb_size:(i+1)*mb_size]\n",
    "            y_1, r_1,  y_2, r_2,  y_3, os = self.forward(xi)\n",
    "            average_grads = self.backward(yi, xi,  y_1, r_1,  y_2, r_2,  y_3, os , weight_decay)\n",
    "            average_loss = self.loss(os, yi)\n",
    "            for p, grad in zip(self.parameters, average_grads):\n",
    "                p -= learning_rate * grad\n",
    "        return average_loss\n",
    "    \n",
    "    def mat_predict(self, x):\n",
    "        _, _, _, _, _, os = self.forward(x)\n",
    "        return os.argmax(axis=1)\n",
    "    \n",
    "    def test(self, x, y):\n",
    "        _, _, _, _, _, os = self.forward(x)\n",
    "        return self.loss(os, y), os.argmax(axis=1)"
   ]
  },
  {
   "cell_type": "code",
   "execution_count": null,
   "metadata": {},
   "outputs": [],
   "source": []
  },
  {
   "cell_type": "code",
   "execution_count": null,
   "metadata": {},
   "outputs": [],
   "source": []
  },
  {
   "cell_type": "code",
   "execution_count": null,
   "metadata": {},
   "outputs": [],
   "source": []
  },
  {
   "cell_type": "code",
   "execution_count": null,
   "metadata": {},
   "outputs": [],
   "source": []
  },
  {
   "cell_type": "code",
   "execution_count": null,
   "metadata": {},
   "outputs": [],
   "source": []
  },
  {
   "cell_type": "code",
   "execution_count": 87,
   "metadata": {},
   "outputs": [],
   "source": [
    "def run(init_method, num_epoche = 3):\n",
    "    mlp = MLP(init_method = init_method)\n",
    "    train_accuracies, train_losses = [], []\n",
    "    valid_accuracies, valid_losses = [], []\n",
    "    test_accuracies, test_losses = [], []\n",
    "\n",
    "    for e in range(num_epoche):\n",
    "        loss = mlp.train(X_train, y_train_onehot, mb_size=100, learning_rate=1e-1)\n",
    "\n",
    "        loss_train, pred_train = mlp.test(X_train, y_train_onehot)\n",
    "        loss_valid, pred_valid = mlp.test(X_valid, y_valid_onehot)\n",
    "        loss_test, pred_test = mlp.test(X_test, y_test_onehot)\n",
    "        valid_losses.append(loss_valid)\n",
    "        test_losses.append(loss_test)\n",
    "        valid_accuracies.append((pred_valid == y_valid).mean())\n",
    "        test_accuracies.append((pred_test == y_test).mean())\n",
    "        train_losses.append(loss_train)\n",
    "        train_accuracies.append((pred_train == y_train).mean())\n",
    "        \n",
    "    ### Plotting the loss and accuracy\n",
    "    plt.figure(figsize=(12, 4))\n",
    "    axis = plt.subplot(1, 2, 1)\n",
    "    axis.plot(range(1, len(train_losses)+1), train_losses, label='train')\n",
    "    axis.plot(range(1, len(valid_losses)+1), valid_losses, label='valid')\n",
    "    axis.plot(range(1, len(test_losses)+1), test_losses, label='test')\n",
    "    axis.legend()\n",
    "    axis.set_ylabel('Loss')\n",
    "    axis.set_xlabel('Epochs')\n",
    "    axis = plt.subplot(1, 2, 2)\n",
    "    axis.plot(range(1, len(train_accuracies)+1), train_accuracies, label='train')\n",
    "    axis.plot(range(1, len(valid_accuracies)+1), valid_accuracies, label='valid')\n",
    "    axis.plot(range(1, len(test_accuracies)+1), test_accuracies, label='test')\n",
    "    axis.legend()\n",
    "    axis.set_ylabel('Accuracy')\n",
    "    axis.set_xlabel('Epochs')\n",
    "\n",
    "    \n",
    "    "
   ]
  },
  {
   "cell_type": "code",
   "execution_count": 74,
   "metadata": {},
   "outputs": [],
   "source": [
    "a = np.array([[1,2,5], [3,4, 1]])"
   ]
  },
  {
   "cell_type": "code",
   "execution_count": 75,
   "metadata": {},
   "outputs": [
    {
     "data": {
      "text/plain": [
       "array([2, 1])"
      ]
     },
     "execution_count": 75,
     "metadata": {},
     "output_type": "execute_result"
    }
   ],
   "source": [
    "b = np.argmax(a, axis=1)\n",
    "b"
   ]
  },
  {
   "cell_type": "code",
   "execution_count": 88,
   "metadata": {},
   "outputs": [
    {
     "name": "stderr",
     "output_type": "stream",
     "text": [
      "/Users/paquet/anaconda3/lib/python3.7/site-packages/ipykernel_launcher.py:79: RuntimeWarning: divide by zero encountered in log\n",
      "/Users/paquet/anaconda3/lib/python3.7/site-packages/ipykernel_launcher.py:79: RuntimeWarning: invalid value encountered in multiply\n"
     ]
    },
    {
     "data": {
      "image/png": "[encoded data removed]",
      "text/plain": [
       "<Figure size 864x288 with 2 Axes>"
      ]
     },
     "metadata": {
      "needs_background": "light"
     },
     "output_type": "display_data"
    }
   ],
   "source": [
    "run(init_method = \"uniform\")"
   ]
  },
  {
   "cell_type": "code",
   "execution_count": null,
   "metadata": {},
   "outputs": [],
   "source": []
  },
  {
   "cell_type": "code",
   "execution_count": null,
   "metadata": {},
   "outputs": [],
   "source": []
  }
 ],
 "metadata": {
  "kernelspec": {
   "display_name": "Python 3",
   "language": "python",
   "name": "python3"
  },
  "language_info": {
   "codemirror_mode": {
    "name": "ipython",
    "version": 3
   },
   "file_extension": ".py",
   "mimetype": "text/x-python",
   "name": "python",
   "nbconvert_exporter": "python",
   "pygments_lexer": "ipython3",
   "version": "3.7.0"
  }
 },
 "nbformat": 4,
 "nbformat_minor": 2
}
